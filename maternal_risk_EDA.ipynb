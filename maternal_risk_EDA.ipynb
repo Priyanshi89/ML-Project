{
 "cells": [
  {
   "cell_type": "code",
   "execution_count": 1,
   "id": "ea2bdf85",
   "metadata": {},
   "outputs": [],
   "source": [
    "import pandas as pd\n",
    "import numpy as np\n",
    "import matplotlib.pyplot as plt\n",
    "import seaborn as sns\n",
    "%matplotlib inline"
   ]
  },
  {
   "cell_type": "code",
   "execution_count": 2,
   "id": "2ce711b5",
   "metadata": {},
   "outputs": [],
   "source": [
    "df = pd.read_csv(\"Maternal_Health_Risk_dataset.csv\")"
   ]
  },
  {
   "cell_type": "code",
   "execution_count": 3,
   "id": "e4f231f3",
   "metadata": {},
   "outputs": [
    {
     "data": {
      "text/html": [
       "<div>\n",
       "<style scoped>\n",
       "    .dataframe tbody tr th:only-of-type {\n",
       "        vertical-align: middle;\n",
       "    }\n",
       "\n",
       "    .dataframe tbody tr th {\n",
       "        vertical-align: top;\n",
       "    }\n",
       "\n",
       "    .dataframe thead th {\n",
       "        text-align: right;\n",
       "    }\n",
       "</style>\n",
       "<table border=\"1\" class=\"dataframe\">\n",
       "  <thead>\n",
       "    <tr style=\"text-align: right;\">\n",
       "      <th></th>\n",
       "      <th>Age</th>\n",
       "      <th>SystolicBP</th>\n",
       "      <th>DiastolicBP</th>\n",
       "      <th>BS</th>\n",
       "      <th>BodyTemp</th>\n",
       "      <th>HeartRate</th>\n",
       "    </tr>\n",
       "  </thead>\n",
       "  <tbody>\n",
       "    <tr>\n",
       "      <th>count</th>\n",
       "      <td>1014.000000</td>\n",
       "      <td>1014.000000</td>\n",
       "      <td>1014.000000</td>\n",
       "      <td>1014.000000</td>\n",
       "      <td>1014.000000</td>\n",
       "      <td>1014.000000</td>\n",
       "    </tr>\n",
       "    <tr>\n",
       "      <th>mean</th>\n",
       "      <td>29.871795</td>\n",
       "      <td>113.198225</td>\n",
       "      <td>76.460552</td>\n",
       "      <td>8.725986</td>\n",
       "      <td>98.665089</td>\n",
       "      <td>74.301775</td>\n",
       "    </tr>\n",
       "    <tr>\n",
       "      <th>std</th>\n",
       "      <td>13.474386</td>\n",
       "      <td>18.403913</td>\n",
       "      <td>13.885796</td>\n",
       "      <td>3.293532</td>\n",
       "      <td>1.371384</td>\n",
       "      <td>8.088702</td>\n",
       "    </tr>\n",
       "    <tr>\n",
       "      <th>min</th>\n",
       "      <td>10.000000</td>\n",
       "      <td>70.000000</td>\n",
       "      <td>49.000000</td>\n",
       "      <td>6.000000</td>\n",
       "      <td>98.000000</td>\n",
       "      <td>7.000000</td>\n",
       "    </tr>\n",
       "    <tr>\n",
       "      <th>25%</th>\n",
       "      <td>19.000000</td>\n",
       "      <td>100.000000</td>\n",
       "      <td>65.000000</td>\n",
       "      <td>6.900000</td>\n",
       "      <td>98.000000</td>\n",
       "      <td>70.000000</td>\n",
       "    </tr>\n",
       "    <tr>\n",
       "      <th>50%</th>\n",
       "      <td>26.000000</td>\n",
       "      <td>120.000000</td>\n",
       "      <td>80.000000</td>\n",
       "      <td>7.500000</td>\n",
       "      <td>98.000000</td>\n",
       "      <td>76.000000</td>\n",
       "    </tr>\n",
       "    <tr>\n",
       "      <th>75%</th>\n",
       "      <td>39.000000</td>\n",
       "      <td>120.000000</td>\n",
       "      <td>90.000000</td>\n",
       "      <td>8.000000</td>\n",
       "      <td>98.000000</td>\n",
       "      <td>80.000000</td>\n",
       "    </tr>\n",
       "    <tr>\n",
       "      <th>max</th>\n",
       "      <td>70.000000</td>\n",
       "      <td>160.000000</td>\n",
       "      <td>100.000000</td>\n",
       "      <td>19.000000</td>\n",
       "      <td>103.000000</td>\n",
       "      <td>90.000000</td>\n",
       "    </tr>\n",
       "  </tbody>\n",
       "</table>\n",
       "</div>"
      ],
      "text/plain": [
       "               Age   SystolicBP  DiastolicBP           BS     BodyTemp  \\\n",
       "count  1014.000000  1014.000000  1014.000000  1014.000000  1014.000000   \n",
       "mean     29.871795   113.198225    76.460552     8.725986    98.665089   \n",
       "std      13.474386    18.403913    13.885796     3.293532     1.371384   \n",
       "min      10.000000    70.000000    49.000000     6.000000    98.000000   \n",
       "25%      19.000000   100.000000    65.000000     6.900000    98.000000   \n",
       "50%      26.000000   120.000000    80.000000     7.500000    98.000000   \n",
       "75%      39.000000   120.000000    90.000000     8.000000    98.000000   \n",
       "max      70.000000   160.000000   100.000000    19.000000   103.000000   \n",
       "\n",
       "         HeartRate  \n",
       "count  1014.000000  \n",
       "mean     74.301775  \n",
       "std       8.088702  \n",
       "min       7.000000  \n",
       "25%      70.000000  \n",
       "50%      76.000000  \n",
       "75%      80.000000  \n",
       "max      90.000000  "
      ]
     },
     "execution_count": 3,
     "metadata": {},
     "output_type": "execute_result"
    }
   ],
   "source": [
    "df.describe()"
   ]
  },
  {
   "cell_type": "code",
   "execution_count": 4,
   "id": "37753e0a",
   "metadata": {},
   "outputs": [
    {
     "data": {
      "text/plain": [
       "(1014, 7)"
      ]
     },
     "execution_count": 4,
     "metadata": {},
     "output_type": "execute_result"
    }
   ],
   "source": [
    "df.shape"
   ]
  },
  {
   "cell_type": "code",
   "execution_count": 5,
   "id": "e1548b1b",
   "metadata": {},
   "outputs": [
    {
     "data": {
      "text/html": [
       "<div>\n",
       "<style scoped>\n",
       "    .dataframe tbody tr th:only-of-type {\n",
       "        vertical-align: middle;\n",
       "    }\n",
       "\n",
       "    .dataframe tbody tr th {\n",
       "        vertical-align: top;\n",
       "    }\n",
       "\n",
       "    .dataframe thead th {\n",
       "        text-align: right;\n",
       "    }\n",
       "</style>\n",
       "<table border=\"1\" class=\"dataframe\">\n",
       "  <thead>\n",
       "    <tr style=\"text-align: right;\">\n",
       "      <th></th>\n",
       "      <th>Age</th>\n",
       "      <th>SystolicBP</th>\n",
       "      <th>DiastolicBP</th>\n",
       "      <th>BS</th>\n",
       "      <th>BodyTemp</th>\n",
       "      <th>HeartRate</th>\n",
       "      <th>RiskLevel</th>\n",
       "    </tr>\n",
       "  </thead>\n",
       "  <tbody>\n",
       "    <tr>\n",
       "      <th>0</th>\n",
       "      <td>25</td>\n",
       "      <td>130</td>\n",
       "      <td>80</td>\n",
       "      <td>15.0</td>\n",
       "      <td>98.0</td>\n",
       "      <td>86</td>\n",
       "      <td>high risk</td>\n",
       "    </tr>\n",
       "    <tr>\n",
       "      <th>1</th>\n",
       "      <td>35</td>\n",
       "      <td>140</td>\n",
       "      <td>90</td>\n",
       "      <td>13.0</td>\n",
       "      <td>98.0</td>\n",
       "      <td>70</td>\n",
       "      <td>high risk</td>\n",
       "    </tr>\n",
       "    <tr>\n",
       "      <th>2</th>\n",
       "      <td>29</td>\n",
       "      <td>90</td>\n",
       "      <td>70</td>\n",
       "      <td>8.0</td>\n",
       "      <td>100.0</td>\n",
       "      <td>80</td>\n",
       "      <td>high risk</td>\n",
       "    </tr>\n",
       "    <tr>\n",
       "      <th>3</th>\n",
       "      <td>30</td>\n",
       "      <td>140</td>\n",
       "      <td>85</td>\n",
       "      <td>7.0</td>\n",
       "      <td>98.0</td>\n",
       "      <td>70</td>\n",
       "      <td>high risk</td>\n",
       "    </tr>\n",
       "    <tr>\n",
       "      <th>4</th>\n",
       "      <td>35</td>\n",
       "      <td>120</td>\n",
       "      <td>60</td>\n",
       "      <td>6.1</td>\n",
       "      <td>98.0</td>\n",
       "      <td>76</td>\n",
       "      <td>low risk</td>\n",
       "    </tr>\n",
       "  </tbody>\n",
       "</table>\n",
       "</div>"
      ],
      "text/plain": [
       "   Age  SystolicBP  DiastolicBP    BS  BodyTemp  HeartRate  RiskLevel\n",
       "0   25         130           80  15.0      98.0         86  high risk\n",
       "1   35         140           90  13.0      98.0         70  high risk\n",
       "2   29          90           70   8.0     100.0         80  high risk\n",
       "3   30         140           85   7.0      98.0         70  high risk\n",
       "4   35         120           60   6.1      98.0         76   low risk"
      ]
     },
     "execution_count": 5,
     "metadata": {},
     "output_type": "execute_result"
    }
   ],
   "source": [
    "df.head()"
   ]
  },
  {
   "cell_type": "code",
   "execution_count": 6,
   "id": "33b96dc2",
   "metadata": {},
   "outputs": [
    {
     "name": "stdout",
     "output_type": "stream",
     "text": [
      "<class 'pandas.core.frame.DataFrame'>\n",
      "RangeIndex: 1014 entries, 0 to 1013\n",
      "Data columns (total 7 columns):\n",
      " #   Column       Non-Null Count  Dtype  \n",
      "---  ------       --------------  -----  \n",
      " 0   Age          1014 non-null   int64  \n",
      " 1   SystolicBP   1014 non-null   int64  \n",
      " 2   DiastolicBP  1014 non-null   int64  \n",
      " 3   BS           1014 non-null   float64\n",
      " 4   BodyTemp     1014 non-null   float64\n",
      " 5   HeartRate    1014 non-null   int64  \n",
      " 6   RiskLevel    1014 non-null   object \n",
      "dtypes: float64(2), int64(4), object(1)\n",
      "memory usage: 55.6+ KB\n"
     ]
    }
   ],
   "source": [
    "df.info()"
   ]
  },
  {
   "cell_type": "code",
   "execution_count": 8,
   "id": "608d3f11",
   "metadata": {},
   "outputs": [],
   "source": [
    "missing_values = df.isnull().sum()*100"
   ]
  },
  {
   "cell_type": "code",
   "execution_count": 9,
   "id": "e374c596",
   "metadata": {},
   "outputs": [
    {
     "data": {
      "text/plain": [
       "Age            0\n",
       "SystolicBP     0\n",
       "DiastolicBP    0\n",
       "BS             0\n",
       "BodyTemp       0\n",
       "HeartRate      0\n",
       "RiskLevel      0\n",
       "dtype: int64"
      ]
     },
     "execution_count": 9,
     "metadata": {},
     "output_type": "execute_result"
    }
   ],
   "source": [
    "missing_values"
   ]
  },
  {
   "cell_type": "markdown",
   "id": "50175be6",
   "metadata": {},
   "source": [
    "## We can see there are no missing values in the dataset."
   ]
  },
  {
   "cell_type": "code",
   "execution_count": 14,
   "id": "123723a0",
   "metadata": {},
   "outputs": [
    {
     "data": {
      "text/plain": [
       "23    7.001972\n",
       "19    6.607495\n",
       "17    6.213018\n",
       "15    5.917160\n",
       "35    4.930966\n",
       "25    4.733728\n",
       "32    4.733728\n",
       "22    4.437870\n",
       "50    4.240631\n",
       "29    3.944773\n",
       "21    3.747535\n",
       "40    3.648915\n",
       "55    3.648915\n",
       "12    3.451677\n",
       "60    3.353057\n",
       "30    2.958580\n",
       "28    2.761341\n",
       "48    2.564103\n",
       "42    2.268245\n",
       "20    2.169625\n",
       "31    2.169625\n",
       "18    1.873767\n",
       "16    1.577909\n",
       "54    1.183432\n",
       "13    1.183432\n",
       "27    0.887574\n",
       "49    0.887574\n",
       "45    0.887574\n",
       "37    0.591716\n",
       "33    0.493097\n",
       "34    0.493097\n",
       "43    0.493097\n",
       "10    0.394477\n",
       "36    0.394477\n",
       "39    0.394477\n",
       "24    0.295858\n",
       "65    0.295858\n",
       "44    0.295858\n",
       "14    0.295858\n",
       "26    0.295858\n",
       "63    0.197239\n",
       "38    0.197239\n",
       "59    0.197239\n",
       "62    0.098619\n",
       "51    0.098619\n",
       "66    0.098619\n",
       "56    0.098619\n",
       "70    0.098619\n",
       "41    0.098619\n",
       "46    0.098619\n",
       "Name: Age, dtype: float64"
      ]
     },
     "execution_count": 14,
     "metadata": {},
     "output_type": "execute_result"
    }
   ],
   "source": [
    "df.Age.value_counts(normalize=True)*100"
   ]
  },
  {
   "cell_type": "code",
   "execution_count": 15,
   "id": "b7fcfabf",
   "metadata": {},
   "outputs": [
    {
     "data": {
      "text/plain": [
       "low risk     40.039448\n",
       "mid risk     33.136095\n",
       "high risk    26.824458\n",
       "Name: RiskLevel, dtype: float64"
      ]
     },
     "execution_count": 15,
     "metadata": {},
     "output_type": "execute_result"
    }
   ],
   "source": [
    "df.RiskLevel.value_counts(normalize=True)*100"
   ]
  },
  {
   "cell_type": "code",
   "execution_count": 16,
   "id": "9e33c0f3",
   "metadata": {},
   "outputs": [],
   "source": [
    "df['Age_Group'] = pd.cut(df['Age'], [0,15,25,35,45,55,65,75], labels = [\"0-15\",\"15-25\",\"25-35\",\"35-45\",\"45-55\",\"55-65\",\"65-75\"])"
   ]
  },
  {
   "cell_type": "code",
   "execution_count": 17,
   "id": "866942e1",
   "metadata": {},
   "outputs": [
    {
     "data": {
      "text/plain": [
       "<AxesSubplot:ylabel='Age_Group'>"
      ]
     },
     "execution_count": 17,
     "metadata": {},
     "output_type": "execute_result"
    },
    {
     "data": {
      "image/png": "[encoded data removed]",
      "text/plain": [
       "<Figure size 640x480 with 1 Axes>"
      ]
     },
     "metadata": {},
     "output_type": "display_data"
    }
   ],
   "source": [
    "df['Age_Group'].value_counts(normalize=True).plot.pie(autopct='%1.2f%%')"
   ]
  },
  {
   "cell_type": "markdown",
   "id": "cd2f52b2",
   "metadata": {},
   "source": [
    "## Conclusion:\n",
    "From the Pie plot above we can see that:\n",
    "- Maximum women are Pregnant between the Age Group of 15 to 25, with the precentage of 38.66%.\n",
    "- Then it comes the women between the Age Group of 25 to 35, with the percentage of 23.7%.\n",
    "- the lowest Proportion is for the women between the Age Group of 65 to 75, with the percentage of 0.20%."
   ]
  },
  {
   "cell_type": "code",
   "execution_count": 18,
   "id": "7631a718",
   "metadata": {},
   "outputs": [
    {
     "data": {
      "image/png": "[encoded data removed]",
      "text/plain": [
       "<Figure size 640x480 with 1 Axes>"
      ]
     },
     "metadata": {},
     "output_type": "display_data"
    }
   ],
   "source": [
    "plt.scatter(df[\"Age\"],df[\"RiskLevel\"])\n",
    "plt.xlabel(\"Age\")\n",
    "plt.ylabel(\"RiskLevel\")\n",
    "plt.title(\"Scatter plot between Age and RiskLevel\")\n",
    "plt.show()"
   ]
  },
  {
   "cell_type": "markdown",
   "id": "83cb7680",
   "metadata": {},
   "source": [
    "## Conclusion: \n",
    "From Our Dataset we can conclude that: \n",
    "- Women between the Age of 30 to 50 generally have a chances of High Risk.\n",
    "- Women between the Age of 15 to 32 generally have a chances of Low Risk.\n",
    "- Women between the Age of 10 to 40 generally have a chances of Mid Risk."
   ]
  },
  {
   "cell_type": "code",
   "execution_count": 19,
   "id": "36ce85cb",
   "metadata": {},
   "outputs": [
    {
     "data": {
      "image/png": "[encoded data removed]",
      "text/plain": [
       "<Figure size 640x480 with 1 Axes>"
      ]
     },
     "metadata": {},
     "output_type": "display_data"
    }
   ],
   "source": [
    "plt.bar(df[\"RiskLevel\"],df[\"SystolicBP\"])\n",
    "plt.xlabel(\"RiskLevel\")\n",
    "plt.ylabel(\"SystolicBP\")\n",
    "plt.title(\"Bar plot between RiskLevel and SystolicBP\")\n",
    "plt.show()"
   ]
  },
  {
   "cell_type": "markdown",
   "id": "351ff4a3",
   "metadata": {},
   "source": [
    "## Conclusion: \n",
    "From our Dataset we can conclude that:\n",
    "  - Systolic Blood Pressure below 120 indicates Low Risk\n",
    "  - Systolic Blood Pressure above 140 indicates High Risk\n",
    "  - Systolic Blood Pressure between 120 to 140 indicates Medium Risk"
   ]
  },
  {
   "cell_type": "code",
   "execution_count": 20,
   "id": "c0dfe856",
   "metadata": {},
   "outputs": [
    {
     "data": {
      "image/png": "[encoded data removed]",
      "text/plain": [
       "<Figure size 640x480 with 1 Axes>"
      ]
     },
     "metadata": {},
     "output_type": "display_data"
    }
   ],
   "source": [
    "plt.bar(df[\"DiastolicBP\"],df[\"SystolicBP\"])\n",
    "plt.xlabel(\"DiastolicBP\")\n",
    "plt.ylabel(\"SystolicBP\")\n",
    "plt.title(\"Bar plot between DiastolicBP and SystolicBP\")\n",
    "plt.show()"
   ]
  },
  {
   "cell_type": "markdown",
   "id": "c418ed0b",
   "metadata": {},
   "source": [
    "## Conclusion: \n",
    "From the above bar plot, following conclusions can be extracted:\n",
    "- The Diasystolic blood Pressure between the range of 50 to 60mmHg can be considered as a low risk.\n",
    "- The Diasystolic blood Pressure between the range of 60 to 90mmHg can be considered as a mid risk.\n",
    "- The Diasystolic blood Pressure between the range of 90 to 100mmHg or above 100mmHg can be considered as a High risk."
   ]
  },
  {
   "cell_type": "code",
   "execution_count": 21,
   "id": "f5afb977",
   "metadata": {},
   "outputs": [
    {
     "data": {
      "image/png": "[encoded data removed]",
      "text/plain": [
       "<Figure size 640x480 with 1 Axes>"
      ]
     },
     "metadata": {},
     "output_type": "display_data"
    }
   ],
   "source": [
    "plt.bar(df[\"RiskLevel\"],df[\"BS\"])\n",
    "plt.xlabel(\"RiskLevel\")\n",
    "plt.ylabel(\"BS\")\n",
    "plt.title(\"Bar plot between RiskLevel and BS\")\n",
    "plt.show()"
   ]
  },
  {
   "cell_type": "markdown",
   "id": "504afbf3",
   "metadata": {},
   "source": [
    "## Conclusion:\n",
    "From the above bar plot we can conclude:\n",
    "- Women having Blood Sugar above 17.5mg/dl have chances for High Risk.\n",
    "- Women having Blood Sugar upto 10.0 to 12.5mg/dl have chances for Low Risk.\n",
    "- Women having Blood Sugar upto 12.5 to 17.5mg/dl have chances for Mid Risk."
   ]
  },
  {
   "cell_type": "code",
   "execution_count": 22,
   "id": "ecfbaf49",
   "metadata": {},
   "outputs": [
    {
     "data": {
      "image/png": "[encoded data removed]",
      "text/plain": [
       "<Figure size 640x480 with 1 Axes>"
      ]
     },
     "metadata": {},
     "output_type": "display_data"
    }
   ],
   "source": [
    "plt.scatter(df[\"RiskLevel\"],df[\"BodyTemp\"])\n",
    "plt.xlabel(\"RiskLevel\")\n",
    "plt.ylabel(\"BodyTemp\")\n",
    "plt.title(\"Bar plot between RiskLevel and BodyTemp\")\n",
    "plt.show()"
   ]
  },
  {
   "cell_type": "markdown",
   "id": "e43f659c",
   "metadata": {},
   "source": [
    "## Conclusion: \n",
    "From the above scatter plot it is clearly visible that the relationship between RiskLevel and BodyTemp is inconclusive."
   ]
  },
  {
   "cell_type": "code",
   "execution_count": 23,
   "id": "75b89d34",
   "metadata": {},
   "outputs": [
    {
     "data": {
      "image/png": "[encoded data removed]",
      "text/plain": [
       "<Figure size 640x480 with 1 Axes>"
      ]
     },
     "metadata": {},
     "output_type": "display_data"
    }
   ],
   "source": [
    "plt.scatter(df[\"HeartRate\"],df[\"RiskLevel\"])\n",
    "plt.xlabel(\"HeartRate\")\n",
    "plt.ylabel(\"RiskLevel\")\n",
    "plt.title(\"Scatter plot between HeartRate and RiskLevel\")\n",
    "plt.show()"
   ]
  },
  {
   "cell_type": "markdown",
   "id": "1c8b7a38",
   "metadata": {},
   "source": [
    "## Conclusion:\n",
    "- It can be Concluded that the external factors like anxiety, stress or dehydration can affect the Heart Rate of the Pregnant Women so the plot obtained above is inconclusion, since our dataset do not include these factors."
   ]
  },
  {
   "cell_type": "code",
   "execution_count": 24,
   "id": "1673ade9",
   "metadata": {},
   "outputs": [],
   "source": [
    "df.drop(\"Age_Group\", inplace=True, axis=1)"
   ]
  },
  {
   "cell_type": "code",
   "execution_count": 25,
   "id": "9023bae4",
   "metadata": {},
   "outputs": [
    {
     "data": {
      "text/html": [
       "<div>\n",
       "<style scoped>\n",
       "    .dataframe tbody tr th:only-of-type {\n",
       "        vertical-align: middle;\n",
       "    }\n",
       "\n",
       "    .dataframe tbody tr th {\n",
       "        vertical-align: top;\n",
       "    }\n",
       "\n",
       "    .dataframe thead th {\n",
       "        text-align: right;\n",
       "    }\n",
       "</style>\n",
       "<table border=\"1\" class=\"dataframe\">\n",
       "  <thead>\n",
       "    <tr style=\"text-align: right;\">\n",
       "      <th></th>\n",
       "      <th>Age</th>\n",
       "      <th>SystolicBP</th>\n",
       "      <th>DiastolicBP</th>\n",
       "      <th>BS</th>\n",
       "      <th>BodyTemp</th>\n",
       "      <th>HeartRate</th>\n",
       "      <th>RiskLevel</th>\n",
       "    </tr>\n",
       "  </thead>\n",
       "  <tbody>\n",
       "    <tr>\n",
       "      <th>0</th>\n",
       "      <td>25</td>\n",
       "      <td>130</td>\n",
       "      <td>80</td>\n",
       "      <td>15.0</td>\n",
       "      <td>98.0</td>\n",
       "      <td>86</td>\n",
       "      <td>high risk</td>\n",
       "    </tr>\n",
       "    <tr>\n",
       "      <th>1</th>\n",
       "      <td>35</td>\n",
       "      <td>140</td>\n",
       "      <td>90</td>\n",
       "      <td>13.0</td>\n",
       "      <td>98.0</td>\n",
       "      <td>70</td>\n",
       "      <td>high risk</td>\n",
       "    </tr>\n",
       "    <tr>\n",
       "      <th>2</th>\n",
       "      <td>29</td>\n",
       "      <td>90</td>\n",
       "      <td>70</td>\n",
       "      <td>8.0</td>\n",
       "      <td>100.0</td>\n",
       "      <td>80</td>\n",
       "      <td>high risk</td>\n",
       "    </tr>\n",
       "    <tr>\n",
       "      <th>3</th>\n",
       "      <td>30</td>\n",
       "      <td>140</td>\n",
       "      <td>85</td>\n",
       "      <td>7.0</td>\n",
       "      <td>98.0</td>\n",
       "      <td>70</td>\n",
       "      <td>high risk</td>\n",
       "    </tr>\n",
       "    <tr>\n",
       "      <th>4</th>\n",
       "      <td>35</td>\n",
       "      <td>120</td>\n",
       "      <td>60</td>\n",
       "      <td>6.1</td>\n",
       "      <td>98.0</td>\n",
       "      <td>76</td>\n",
       "      <td>low risk</td>\n",
       "    </tr>\n",
       "  </tbody>\n",
       "</table>\n",
       "</div>"
      ],
      "text/plain": [
       "   Age  SystolicBP  DiastolicBP    BS  BodyTemp  HeartRate  RiskLevel\n",
       "0   25         130           80  15.0      98.0         86  high risk\n",
       "1   35         140           90  13.0      98.0         70  high risk\n",
       "2   29          90           70   8.0     100.0         80  high risk\n",
       "3   30         140           85   7.0      98.0         70  high risk\n",
       "4   35         120           60   6.1      98.0         76   low risk"
      ]
     },
     "execution_count": 25,
     "metadata": {},
     "output_type": "execute_result"
    }
   ],
   "source": [
    "df.head()"
   ]
  },
  {
   "cell_type": "code",
   "execution_count": 26,
   "id": "34113ed5",
   "metadata": {},
   "outputs": [],
   "source": [
    "column_drop = [\"HeartRate\",\"RiskLevel\",\"DiastolicBP\",\"BodyTemp\"]"
   ]
  },
  {
   "cell_type": "code",
   "execution_count": 27,
   "id": "35904639",
   "metadata": {},
   "outputs": [],
   "source": [
    " x = df.drop(column_drop, axis=1)"
   ]
  },
  {
   "cell_type": "code",
   "execution_count": 28,
   "id": "7a03034d",
   "metadata": {},
   "outputs": [],
   "source": [
    "y = df[\"RiskLevel\"]"
   ]
  },
  {
   "cell_type": "code",
   "execution_count": 29,
   "id": "36fa9b1b",
   "metadata": {},
   "outputs": [],
   "source": [
    "from sklearn.model_selection import train_test_split"
   ]
  },
  {
   "cell_type": "code",
   "execution_count": 30,
   "id": "d7224d3f",
   "metadata": {},
   "outputs": [
    {
     "name": "stdout",
     "output_type": "stream",
     "text": [
      "      Age  SystolicBP    BS\n",
      "0      25         130  15.0\n",
      "1      35         140  13.0\n",
      "2      29          90   8.0\n",
      "3      30         140   7.0\n",
      "4      35         120   6.1\n",
      "...   ...         ...   ...\n",
      "1009   22         120  15.0\n",
      "1010   55         120  18.0\n",
      "1011   35          85  19.0\n",
      "1012   43         120  18.0\n",
      "1013   32         120   6.0\n",
      "\n",
      "[1014 rows x 3 columns]\n"
     ]
    }
   ],
   "source": [
    "print(x)"
   ]
  },
  {
   "cell_type": "markdown",
   "id": "7e16bae2",
   "metadata": {},
   "source": [
    "# Logistic Regression"
   ]
  },
  {
   "cell_type": "code",
   "execution_count": 31,
   "id": "1a049bac",
   "metadata": {},
   "outputs": [],
   "source": [
    "from sklearn.linear_model import LogisticRegression\n",
    "from sklearn.metrics import accuracy_score, confusion_matrix, classification_report"
   ]
  },
  {
   "cell_type": "code",
   "execution_count": 32,
   "id": "c3c87eb2",
   "metadata": {},
   "outputs": [],
   "source": [
    "x_train, x_test, y_train, y_test = train_test_split(x, y, test_size=0.2, random_state=42)"
   ]
  },
  {
   "cell_type": "code",
   "execution_count": 33,
   "id": "5dd2ace0",
   "metadata": {},
   "outputs": [],
   "source": [
    "model = LogisticRegression(multi_class='multinomial', solver='lbfgs')"
   ]
  },
  {
   "cell_type": "code",
   "execution_count": 34,
   "id": "1a06c392",
   "metadata": {},
   "outputs": [
    {
     "data": {
      "text/plain": [
       "LogisticRegression(multi_class='multinomial')"
      ]
     },
     "execution_count": 34,
     "metadata": {},
     "output_type": "execute_result"
    }
   ],
   "source": [
    "model.fit(x_train,y_train)"
   ]
  },
  {
   "cell_type": "code",
   "execution_count": 35,
   "id": "7cc72fc6",
   "metadata": {},
   "outputs": [],
   "source": [
    "y_pred = model.predict(x_test)"
   ]
  },
  {
   "cell_type": "code",
   "execution_count": 36,
   "id": "bfa6c527",
   "metadata": {},
   "outputs": [
    {
     "name": "stdout",
     "output_type": "stream",
     "text": [
      "Accuracy: 0.5665024630541872\n",
      "Confusion Matrix:\n",
      "[[30  6 11]\n",
      " [ 1 70  9]\n",
      " [ 7 54 15]]\n",
      "Classification Report:\n",
      "              precision    recall  f1-score   support\n",
      "\n",
      "   high risk       0.79      0.64      0.71        47\n",
      "    low risk       0.54      0.88      0.67        80\n",
      "    mid risk       0.43      0.20      0.27        76\n",
      "\n",
      "    accuracy                           0.57       203\n",
      "   macro avg       0.59      0.57      0.55       203\n",
      "weighted avg       0.56      0.57      0.53       203\n",
      "\n"
     ]
    }
   ],
   "source": [
    "# Calculate accuracy\n",
    "accuracy = accuracy_score(y_test, y_pred)\n",
    "print(f\"Accuracy: {accuracy}\")\n",
    "\n",
    "# Confusion matrix\n",
    "conf_matrix = confusion_matrix(y_test, y_pred)\n",
    "print(\"Confusion Matrix:\")\n",
    "print(conf_matrix)\n",
    "\n",
    "# Classification report\n",
    "class_report = classification_report(y_test, y_pred)\n",
    "print(\"Classification Report:\")\n",
    "print(class_report)"
   ]
  },
  {
   "cell_type": "markdown",
   "id": "eb690be7",
   "metadata": {},
   "source": [
    "# Decision Tree Classifier"
   ]
  },
  {
   "cell_type": "code",
   "execution_count": 37,
   "id": "3808c52c",
   "metadata": {},
   "outputs": [],
   "source": [
    "from sklearn.tree import DecisionTreeClassifier"
   ]
  },
  {
   "cell_type": "code",
   "execution_count": 38,
   "id": "63a4aba5",
   "metadata": {},
   "outputs": [],
   "source": [
    "clf = DecisionTreeClassifier()"
   ]
  },
  {
   "cell_type": "code",
   "execution_count": 39,
   "id": "e00e7673",
   "metadata": {},
   "outputs": [
    {
     "data": {
      "text/plain": [
       "DecisionTreeClassifier()"
      ]
     },
     "execution_count": 39,
     "metadata": {},
     "output_type": "execute_result"
    }
   ],
   "source": [
    "clf.fit(x_train, y_train)"
   ]
  },
  {
   "cell_type": "code",
   "execution_count": 40,
   "id": "d9d8bc1f",
   "metadata": {},
   "outputs": [],
   "source": [
    "y_pred = clf.predict(x_test)"
   ]
  },
  {
   "cell_type": "code",
   "execution_count": 41,
   "id": "58a342d8",
   "metadata": {},
   "outputs": [
    {
     "name": "stdout",
     "output_type": "stream",
     "text": [
      "Accuracy: 0.7931034482758621\n"
     ]
    }
   ],
   "source": [
    "accuracy = accuracy_score(y_test, y_pred)\n",
    "print(\"Accuracy:\", accuracy)"
   ]
  },
  {
   "cell_type": "code",
   "execution_count": 42,
   "id": "a2d3e7d1",
   "metadata": {},
   "outputs": [
    {
     "name": "stdout",
     "output_type": "stream",
     "text": [
      "Confusion Matrix:\n",
      "[[40  1  6]\n",
      " [ 5 61 14]\n",
      " [ 3 13 60]]\n",
      "Classification Report:\n",
      "              precision    recall  f1-score   support\n",
      "\n",
      "   high risk       0.83      0.85      0.84        47\n",
      "    low risk       0.81      0.76      0.79        80\n",
      "    mid risk       0.75      0.79      0.77        76\n",
      "\n",
      "    accuracy                           0.79       203\n",
      "   macro avg       0.80      0.80      0.80       203\n",
      "weighted avg       0.79      0.79      0.79       203\n",
      "\n"
     ]
    }
   ],
   "source": [
    "conf_matrix = confusion_matrix(y_test, y_pred)\n",
    "print(\"Confusion Matrix:\")\n",
    "print(conf_matrix)\n",
    "\n",
    "# Classification report\n",
    "class_report = classification_report(y_test, y_pred)\n",
    "print(\"Classification Report:\")\n",
    "print(class_report)"
   ]
  },
  {
   "cell_type": "markdown",
   "id": "01607f7b",
   "metadata": {},
   "source": [
    "# KNN"
   ]
  },
  {
   "cell_type": "code",
   "execution_count": 43,
   "id": "4b3473ca",
   "metadata": {},
   "outputs": [],
   "source": [
    "from sklearn.neighbors import KNeighborsClassifier"
   ]
  },
  {
   "cell_type": "code",
   "execution_count": 44,
   "id": "7aa09f25",
   "metadata": {},
   "outputs": [],
   "source": [
    "k = 5  # Number of neighbors to consider\n",
    "clf = KNeighborsClassifier(n_neighbors=k)"
   ]
  },
  {
   "cell_type": "code",
   "execution_count": 45,
   "id": "215fb747",
   "metadata": {},
   "outputs": [
    {
     "data": {
      "text/plain": [
       "KNeighborsClassifier()"
      ]
     },
     "execution_count": 45,
     "metadata": {},
     "output_type": "execute_result"
    }
   ],
   "source": [
    "clf.fit(x_train, y_train)"
   ]
  },
  {
   "cell_type": "code",
   "execution_count": 46,
   "id": "66ff5150",
   "metadata": {},
   "outputs": [
    {
     "name": "stderr",
     "output_type": "stream",
     "text": [
      "C:\\ProgramData\\Anaconda3\\lib\\site-packages\\sklearn\\neighbors\\_classification.py:228: FutureWarning: Unlike other reduction functions (e.g. `skew`, `kurtosis`), the default behavior of `mode` typically preserves the axis it acts along. In SciPy 1.11.0, this behavior will change: the default value of `keepdims` will become False, the `axis` over which the statistic is taken will be eliminated, and the value None will no longer be accepted. Set `keepdims` to True or False to avoid this warning.\n",
      "  mode, _ = stats.mode(_y[neigh_ind, k], axis=1)\n"
     ]
    }
   ],
   "source": [
    "y_pred = clf.predict(x_test)"
   ]
  },
  {
   "cell_type": "code",
   "execution_count": 47,
   "id": "c2974cc3",
   "metadata": {},
   "outputs": [
    {
     "name": "stdout",
     "output_type": "stream",
     "text": [
      "Accuracy: 0.6945812807881774\n"
     ]
    }
   ],
   "source": [
    "accuracy = accuracy_score(y_test, y_pred)\n",
    "print(\"Accuracy:\", accuracy)"
   ]
  },
  {
   "cell_type": "markdown",
   "id": "87806fb1",
   "metadata": {},
   "source": [
    "# SVC"
   ]
  },
  {
   "cell_type": "code",
   "execution_count": 48,
   "id": "c3d7e80a",
   "metadata": {},
   "outputs": [],
   "source": [
    "from sklearn.svm import SVC"
   ]
  },
  {
   "cell_type": "code",
   "execution_count": 49,
   "id": "a30b76d4",
   "metadata": {},
   "outputs": [],
   "source": [
    "clf = SVC(kernel='linear', decision_function_shape='ovr')"
   ]
  },
  {
   "cell_type": "code",
   "execution_count": 50,
   "id": "126074aa",
   "metadata": {},
   "outputs": [
    {
     "data": {
      "text/plain": [
       "SVC(kernel='linear')"
      ]
     },
     "execution_count": 50,
     "metadata": {},
     "output_type": "execute_result"
    }
   ],
   "source": [
    "clf.fit(x_train, y_train)"
   ]
  },
  {
   "cell_type": "code",
   "execution_count": 51,
   "id": "df20f803",
   "metadata": {},
   "outputs": [],
   "source": [
    "y_pred = clf.predict(x_test)"
   ]
  },
  {
   "cell_type": "code",
   "execution_count": 52,
   "id": "2875f7d2",
   "metadata": {},
   "outputs": [
    {
     "name": "stdout",
     "output_type": "stream",
     "text": [
      "Accuracy: 0.5369458128078818\n"
     ]
    }
   ],
   "source": [
    "accuracy = accuracy_score(y_test, y_pred)\n",
    "print(\"Accuracy:\", accuracy)"
   ]
  },
  {
   "cell_type": "markdown",
   "id": "2d536396",
   "metadata": {},
   "source": [
    "# Random Forest"
   ]
  },
  {
   "cell_type": "code",
   "execution_count": 53,
   "id": "970f7e24",
   "metadata": {},
   "outputs": [],
   "source": [
    "from sklearn.ensemble import RandomForestClassifier"
   ]
  },
  {
   "cell_type": "code",
   "execution_count": 54,
   "id": "89d7e72f",
   "metadata": {},
   "outputs": [],
   "source": [
    "clf = RandomForestClassifier(n_estimators=100, random_state=42)"
   ]
  },
  {
   "cell_type": "code",
   "execution_count": 55,
   "id": "b898d7e8",
   "metadata": {},
   "outputs": [
    {
     "data": {
      "text/plain": [
       "RandomForestClassifier(random_state=42)"
      ]
     },
     "execution_count": 55,
     "metadata": {},
     "output_type": "execute_result"
    }
   ],
   "source": [
    "clf.fit(x_train, y_train)"
   ]
  },
  {
   "cell_type": "code",
   "execution_count": 56,
   "id": "4146feca",
   "metadata": {},
   "outputs": [],
   "source": [
    "y_pred = clf.predict(x_test)"
   ]
  },
  {
   "cell_type": "code",
   "execution_count": 57,
   "id": "347e0dbd",
   "metadata": {},
   "outputs": [
    {
     "name": "stdout",
     "output_type": "stream",
     "text": [
      "Accuracy: 0.8275862068965517\n"
     ]
    }
   ],
   "source": [
    "accuracy = accuracy_score(y_test, y_pred)\n",
    "print(\"Accuracy:\", accuracy)"
   ]
  },
  {
   "cell_type": "markdown",
   "id": "e86060f2",
   "metadata": {},
   "source": [
    "# Neural Networks"
   ]
  },
  {
   "cell_type": "code",
   "execution_count": 58,
   "id": "49c0bf9e",
   "metadata": {},
   "outputs": [],
   "source": [
    "from keras.models import Sequential\n",
    "from keras.layers import Dense\n",
    "from keras.utils import to_categorical"
   ]
  },
  {
   "cell_type": "code",
   "execution_count": 59,
   "id": "81a3deaf",
   "metadata": {},
   "outputs": [
    {
     "name": "stdout",
     "output_type": "stream",
     "text": [
      "['high risk' 'low risk' 'mid risk']\n"
     ]
    }
   ],
   "source": [
    "unique_values = np.unique(y)\n",
    "print(unique_values)"
   ]
  },
  {
   "cell_type": "code",
   "execution_count": 60,
   "id": "117fc2f9",
   "metadata": {},
   "outputs": [],
   "source": [
    "from sklearn.preprocessing import LabelEncoder\n",
    "\n",
    "# Initialize the LabelEncoder\n",
    "label_encoder = LabelEncoder()\n",
    "\n",
    "# Convert the target variable y to numeric labels\n",
    "y_numeric = label_encoder.fit_transform(y)"
   ]
  },
  {
   "cell_type": "code",
   "execution_count": 61,
   "id": "20ffe57d",
   "metadata": {},
   "outputs": [],
   "source": [
    "# Custom mapping of string labels to numeric labels\n",
    "label_mapping = {\n",
    "    'high risk': 0,\n",
    "    'low risk': 1,\n",
    "    'mid risk': 2,\n",
    "    # Add more mappings as needed\n",
    "}\n",
    "\n",
    "# Use a list comprehension to convert y to numeric labels\n",
    "y_numeric = [label_mapping[label] for label in y]"
   ]
  },
  {
   "cell_type": "code",
   "execution_count": 62,
   "id": "dd67e754",
   "metadata": {},
   "outputs": [],
   "source": [
    "y_one_hot = to_categorical(y_numeric)"
   ]
  },
  {
   "cell_type": "code",
   "execution_count": 63,
   "id": "ca1cddf2",
   "metadata": {},
   "outputs": [],
   "source": [
    "x_train, x_test, y_train, y_test = train_test_split(x, y_one_hot, test_size=0.2, random_state=42)"
   ]
  },
  {
   "cell_type": "code",
   "execution_count": 64,
   "id": "431c026a",
   "metadata": {},
   "outputs": [],
   "source": [
    "# Create the Neural Network model\n",
    "model = Sequential()\n",
    "model.add(Dense(64, activation='relu', input_shape=(x_train.shape[1],)))\n",
    "model.add(Dense(32, activation='relu'))\n",
    "model.add(Dense(3, activation='softmax'))"
   ]
  },
  {
   "cell_type": "code",
   "execution_count": 65,
   "id": "c4462ef5",
   "metadata": {},
   "outputs": [],
   "source": [
    "model.compile(optimizer='adam', loss='categorical_crossentropy', metrics=['accuracy'])"
   ]
  },
  {
   "cell_type": "code",
   "execution_count": 66,
   "id": "e9a7fbc9",
   "metadata": {},
   "outputs": [
    {
     "name": "stdout",
     "output_type": "stream",
     "text": [
      "Epoch 1/50\n",
      "26/26 [==============================] - 2s 3ms/step - loss: 8.7059 - accuracy: 0.2737\n",
      "Epoch 2/50\n",
      "26/26 [==============================] - 0s 2ms/step - loss: 2.0322 - accuracy: 0.3095\n",
      "Epoch 3/50\n",
      "26/26 [==============================] - 0s 3ms/step - loss: 1.2506 - accuracy: 0.3144\n",
      "Epoch 4/50\n",
      "26/26 [==============================] - 0s 3ms/step - loss: 1.1402 - accuracy: 0.3120\n",
      "Epoch 5/50\n",
      "26/26 [==============================] - 0s 3ms/step - loss: 1.0985 - accuracy: 0.3921\n",
      "Epoch 6/50\n",
      "26/26 [==============================] - 0s 3ms/step - loss: 1.0473 - accuracy: 0.4365\n",
      "Epoch 7/50\n",
      "26/26 [==============================] - 0s 2ms/step - loss: 1.0648 - accuracy: 0.4106\n",
      "Epoch 8/50\n",
      "26/26 [==============================] - 0s 3ms/step - loss: 1.0252 - accuracy: 0.4747\n",
      "Epoch 9/50\n",
      "26/26 [==============================] - 0s 3ms/step - loss: 1.0133 - accuracy: 0.4501\n",
      "Epoch 10/50\n",
      "26/26 [==============================] - 0s 3ms/step - loss: 0.9837 - accuracy: 0.5018\n",
      "Epoch 11/50\n",
      "26/26 [==============================] - 0s 3ms/step - loss: 1.0062 - accuracy: 0.4760\n",
      "Epoch 12/50\n",
      "26/26 [==============================] - 0s 3ms/step - loss: 1.0071 - accuracy: 0.4587\n",
      "Epoch 13/50\n",
      "26/26 [==============================] - 0s 2ms/step - loss: 0.9874 - accuracy: 0.4612\n",
      "Epoch 14/50\n",
      "26/26 [==============================] - 0s 3ms/step - loss: 0.9743 - accuracy: 0.5216\n",
      "Epoch 15/50\n",
      "26/26 [==============================] - 0s 3ms/step - loss: 0.9675 - accuracy: 0.5216\n",
      "Epoch 16/50\n",
      "26/26 [==============================] - 0s 3ms/step - loss: 0.9609 - accuracy: 0.5290\n",
      "Epoch 17/50\n",
      "26/26 [==============================] - 0s 2ms/step - loss: 1.0670 - accuracy: 0.4747\n",
      "Epoch 18/50\n",
      "26/26 [==============================] - 0s 3ms/step - loss: 0.9708 - accuracy: 0.5018\n",
      "Epoch 19/50\n",
      "26/26 [==============================] - 0s 3ms/step - loss: 0.9457 - accuracy: 0.5364\n",
      "Epoch 20/50\n",
      "26/26 [==============================] - 0s 2ms/step - loss: 0.9517 - accuracy: 0.4969\n",
      "Epoch 21/50\n",
      "26/26 [==============================] - 0s 3ms/step - loss: 0.9663 - accuracy: 0.4957\n",
      "Epoch 22/50\n",
      "26/26 [==============================] - 0s 3ms/step - loss: 0.9564 - accuracy: 0.5216\n",
      "Epoch 23/50\n",
      "26/26 [==============================] - 0s 3ms/step - loss: 0.9633 - accuracy: 0.4969\n",
      "Epoch 24/50\n",
      "26/26 [==============================] - 0s 3ms/step - loss: 0.9394 - accuracy: 0.5314\n",
      "Epoch 25/50\n",
      "26/26 [==============================] - 0s 3ms/step - loss: 0.9746 - accuracy: 0.4834\n",
      "Epoch 26/50\n",
      "26/26 [==============================] - 0s 3ms/step - loss: 0.9675 - accuracy: 0.4784\n",
      "Epoch 27/50\n",
      "26/26 [==============================] - 0s 3ms/step - loss: 0.9975 - accuracy: 0.5203\n",
      "Epoch 28/50\n",
      "26/26 [==============================] - 0s 3ms/step - loss: 0.9809 - accuracy: 0.5228\n",
      "Epoch 29/50\n",
      "26/26 [==============================] - 0s 3ms/step - loss: 0.9503 - accuracy: 0.5154\n",
      "Epoch 30/50\n",
      "26/26 [==============================] - 0s 3ms/step - loss: 0.9648 - accuracy: 0.5018\n",
      "Epoch 31/50\n",
      "26/26 [==============================] - 0s 3ms/step - loss: 1.0062 - accuracy: 0.4994\n",
      "Epoch 32/50\n",
      "26/26 [==============================] - 0s 3ms/step - loss: 1.0130 - accuracy: 0.4846\n",
      "Epoch 33/50\n",
      "26/26 [==============================] - 0s 2ms/step - loss: 0.9745 - accuracy: 0.5006\n",
      "Epoch 34/50\n",
      "26/26 [==============================] - 0s 3ms/step - loss: 0.9640 - accuracy: 0.5105\n",
      "Epoch 35/50\n",
      "26/26 [==============================] - 0s 2ms/step - loss: 0.9517 - accuracy: 0.5080\n",
      "Epoch 36/50\n",
      "26/26 [==============================] - 0s 3ms/step - loss: 0.9421 - accuracy: 0.5228\n",
      "Epoch 37/50\n",
      "26/26 [==============================] - 0s 3ms/step - loss: 0.9484 - accuracy: 0.5401\n",
      "Epoch 38/50\n",
      "26/26 [==============================] - 0s 3ms/step - loss: 0.9495 - accuracy: 0.5142\n",
      "Epoch 39/50\n",
      "26/26 [==============================] - 0s 3ms/step - loss: 0.9484 - accuracy: 0.5142\n",
      "Epoch 40/50\n",
      "26/26 [==============================] - 0s 3ms/step - loss: 0.9393 - accuracy: 0.5228\n",
      "Epoch 41/50\n",
      "26/26 [==============================] - 0s 3ms/step - loss: 0.9443 - accuracy: 0.5216\n",
      "Epoch 42/50\n",
      "26/26 [==============================] - 0s 3ms/step - loss: 0.9218 - accuracy: 0.5339\n",
      "Epoch 43/50\n",
      "26/26 [==============================] - 0s 3ms/step - loss: 0.9708 - accuracy: 0.5105\n",
      "Epoch 44/50\n",
      "26/26 [==============================] - 0s 3ms/step - loss: 0.9386 - accuracy: 0.5240\n",
      "Epoch 45/50\n",
      "26/26 [==============================] - 0s 3ms/step - loss: 0.9526 - accuracy: 0.5499\n",
      "Epoch 46/50\n",
      "26/26 [==============================] - 0s 3ms/step - loss: 0.9676 - accuracy: 0.5117\n",
      "Epoch 47/50\n",
      "26/26 [==============================] - 0s 3ms/step - loss: 0.9595 - accuracy: 0.5055\n",
      "Epoch 48/50\n",
      "26/26 [==============================] - 0s 3ms/step - loss: 0.9220 - accuracy: 0.5302\n",
      "Epoch 49/50\n",
      "26/26 [==============================] - 0s 3ms/step - loss: 0.9441 - accuracy: 0.5351\n",
      "Epoch 50/50\n",
      "26/26 [==============================] - 0s 3ms/step - loss: 0.9411 - accuracy: 0.5438\n"
     ]
    },
    {
     "data": {
      "text/plain": [
       "<keras.callbacks.History at 0x227b45f7790>"
      ]
     },
     "execution_count": 66,
     "metadata": {},
     "output_type": "execute_result"
    }
   ],
   "source": [
    "model.fit(x_train, y_train, epochs=50, batch_size=32, verbose=1)"
   ]
  },
  {
   "cell_type": "code",
   "execution_count": 67,
   "id": "1c582078",
   "metadata": {},
   "outputs": [
    {
     "name": "stdout",
     "output_type": "stream",
     "text": [
      "7/7 [==============================] - 0s 2ms/step - loss: 0.8902 - accuracy: 0.5862\n",
      "Accuracy: 0.5862069129943848\n"
     ]
    }
   ],
   "source": [
    "loss, accuracy = model.evaluate(x_test, y_test)\n",
    "print(\"Accuracy:\", accuracy)"
   ]
  },
  {
   "cell_type": "markdown",
   "id": "d50c5050",
   "metadata": {},
   "source": [
    "# XGBoost"
   ]
  },
  {
   "cell_type": "code",
   "execution_count": 68,
   "id": "72d48655",
   "metadata": {},
   "outputs": [],
   "source": [
    "from sklearn.ensemble import GradientBoostingClassifier"
   ]
  },
  {
   "cell_type": "code",
   "execution_count": 69,
   "id": "a1973845",
   "metadata": {},
   "outputs": [],
   "source": [
    "x_train, x_test, y_train, y_test = train_test_split(x, y, test_size=0.2, random_state=42)"
   ]
  },
  {
   "cell_type": "code",
   "execution_count": 70,
   "id": "9b012dad",
   "metadata": {},
   "outputs": [],
   "source": [
    "clf = GradientBoostingClassifier(n_estimators=100, random_state=42)"
   ]
  },
  {
   "cell_type": "code",
   "execution_count": 71,
   "id": "0aeec6e5",
   "metadata": {},
   "outputs": [
    {
     "data": {
      "text/plain": [
       "GradientBoostingClassifier(random_state=42)"
      ]
     },
     "execution_count": 71,
     "metadata": {},
     "output_type": "execute_result"
    }
   ],
   "source": [
    "clf.fit(x_train, y_train)"
   ]
  },
  {
   "cell_type": "code",
   "execution_count": 72,
   "id": "87121a5e",
   "metadata": {},
   "outputs": [],
   "source": [
    "y_pred = clf.predict(x_test)"
   ]
  },
  {
   "cell_type": "code",
   "execution_count": 73,
   "id": "d5b954ef",
   "metadata": {},
   "outputs": [
    {
     "name": "stdout",
     "output_type": "stream",
     "text": [
      "Accuracy: 0.7536945812807881\n"
     ]
    }
   ],
   "source": [
    "# Calculate accuracy\n",
    "accuracy = accuracy_score(y_test, y_pred)\n",
    "print(\"Accuracy:\", accuracy)"
   ]
  },
  {
   "cell_type": "markdown",
   "id": "0895d1e4",
   "metadata": {},
   "source": [
    "# Conclusion: Random Forest Proves to provide the Highest Accuracy from the above models"
   ]
  },
  {
   "cell_type": "markdown",
   "id": "21066c81",
   "metadata": {},
   "source": [
    "### Let's Test our model"
   ]
  },
  {
   "cell_type": "code",
   "execution_count": 74,
   "id": "fa736545",
   "metadata": {},
   "outputs": [],
   "source": [
    "sample_data = pd.DataFrame({\"Age\":[25], \"SystolicBP\":[130], \"BS\":[15]})"
   ]
  },
  {
   "cell_type": "code",
   "execution_count": 75,
   "id": "83720913",
   "metadata": {},
   "outputs": [],
   "source": [
    "pred = clf.predict(sample_data)"
   ]
  },
  {
   "cell_type": "code",
   "execution_count": 76,
   "id": "70c791f6",
   "metadata": {},
   "outputs": [
    {
     "name": "stdout",
     "output_type": "stream",
     "text": [
      "['high risk']\n"
     ]
    }
   ],
   "source": [
    "print(pred)"
   ]
  },
  {
   "cell_type": "code",
   "execution_count": 77,
   "id": "bc9de4ca",
   "metadata": {},
   "outputs": [],
   "source": [
    "sample_data = pd.DataFrame({\"Age\":[35], \"SystolicBP\":[120], \"BS\":[6.1]})"
   ]
  },
  {
   "cell_type": "code",
   "execution_count": 78,
   "id": "ecc8aafc",
   "metadata": {},
   "outputs": [],
   "source": [
    "pred = clf.predict(sample_data)"
   ]
  },
  {
   "cell_type": "code",
   "execution_count": 79,
   "id": "b0bbf850",
   "metadata": {},
   "outputs": [
    {
     "name": "stdout",
     "output_type": "stream",
     "text": [
      "['low risk']\n"
     ]
    }
   ],
   "source": [
    "print(pred)"
   ]
  },
  {
   "cell_type": "code",
   "execution_count": 80,
   "id": "be02eba6",
   "metadata": {},
   "outputs": [],
   "source": [
    "df['RiskLevel'] = pd.Categorical(df['RiskLevel'], categories = [\"high risk\",\"low risk\",\"mid risk\"], ordered=True)\n",
    "df['RiskLevel'] = df['RiskLevel'].cat.codes"
   ]
  },
  {
   "cell_type": "code",
   "execution_count": 81,
   "id": "96073769",
   "metadata": {},
   "outputs": [
    {
     "data": {
      "text/html": [
       "<div>\n",
       "<style scoped>\n",
       "    .dataframe tbody tr th:only-of-type {\n",
       "        vertical-align: middle;\n",
       "    }\n",
       "\n",
       "    .dataframe tbody tr th {\n",
       "        vertical-align: top;\n",
       "    }\n",
       "\n",
       "    .dataframe thead th {\n",
       "        text-align: right;\n",
       "    }\n",
       "</style>\n",
       "<table border=\"1\" class=\"dataframe\">\n",
       "  <thead>\n",
       "    <tr style=\"text-align: right;\">\n",
       "      <th></th>\n",
       "      <th>Age</th>\n",
       "      <th>SystolicBP</th>\n",
       "      <th>DiastolicBP</th>\n",
       "      <th>BS</th>\n",
       "      <th>BodyTemp</th>\n",
       "      <th>HeartRate</th>\n",
       "      <th>RiskLevel</th>\n",
       "    </tr>\n",
       "  </thead>\n",
       "  <tbody>\n",
       "    <tr>\n",
       "      <th>0</th>\n",
       "      <td>25</td>\n",
       "      <td>130</td>\n",
       "      <td>80</td>\n",
       "      <td>15.0</td>\n",
       "      <td>98.0</td>\n",
       "      <td>86</td>\n",
       "      <td>0</td>\n",
       "    </tr>\n",
       "    <tr>\n",
       "      <th>1</th>\n",
       "      <td>35</td>\n",
       "      <td>140</td>\n",
       "      <td>90</td>\n",
       "      <td>13.0</td>\n",
       "      <td>98.0</td>\n",
       "      <td>70</td>\n",
       "      <td>0</td>\n",
       "    </tr>\n",
       "    <tr>\n",
       "      <th>2</th>\n",
       "      <td>29</td>\n",
       "      <td>90</td>\n",
       "      <td>70</td>\n",
       "      <td>8.0</td>\n",
       "      <td>100.0</td>\n",
       "      <td>80</td>\n",
       "      <td>0</td>\n",
       "    </tr>\n",
       "    <tr>\n",
       "      <th>3</th>\n",
       "      <td>30</td>\n",
       "      <td>140</td>\n",
       "      <td>85</td>\n",
       "      <td>7.0</td>\n",
       "      <td>98.0</td>\n",
       "      <td>70</td>\n",
       "      <td>0</td>\n",
       "    </tr>\n",
       "    <tr>\n",
       "      <th>4</th>\n",
       "      <td>35</td>\n",
       "      <td>120</td>\n",
       "      <td>60</td>\n",
       "      <td>6.1</td>\n",
       "      <td>98.0</td>\n",
       "      <td>76</td>\n",
       "      <td>1</td>\n",
       "    </tr>\n",
       "  </tbody>\n",
       "</table>\n",
       "</div>"
      ],
      "text/plain": [
       "   Age  SystolicBP  DiastolicBP    BS  BodyTemp  HeartRate  RiskLevel\n",
       "0   25         130           80  15.0      98.0         86          0\n",
       "1   35         140           90  13.0      98.0         70          0\n",
       "2   29          90           70   8.0     100.0         80          0\n",
       "3   30         140           85   7.0      98.0         70          0\n",
       "4   35         120           60   6.1      98.0         76          1"
      ]
     },
     "execution_count": 81,
     "metadata": {},
     "output_type": "execute_result"
    }
   ],
   "source": [
    "df.head()"
   ]
  },
  {
   "cell_type": "code",
   "execution_count": 82,
   "id": "c52803a0",
   "metadata": {},
   "outputs": [
    {
     "data": {
      "text/html": [
       "<div>\n",
       "<style scoped>\n",
       "    .dataframe tbody tr th:only-of-type {\n",
       "        vertical-align: middle;\n",
       "    }\n",
       "\n",
       "    .dataframe tbody tr th {\n",
       "        vertical-align: top;\n",
       "    }\n",
       "\n",
       "    .dataframe thead th {\n",
       "        text-align: right;\n",
       "    }\n",
       "</style>\n",
       "<table border=\"1\" class=\"dataframe\">\n",
       "  <thead>\n",
       "    <tr style=\"text-align: right;\">\n",
       "      <th></th>\n",
       "      <th>Age</th>\n",
       "      <th>SystolicBP</th>\n",
       "      <th>DiastolicBP</th>\n",
       "      <th>BS</th>\n",
       "      <th>BodyTemp</th>\n",
       "      <th>HeartRate</th>\n",
       "      <th>RiskLevel</th>\n",
       "    </tr>\n",
       "  </thead>\n",
       "  <tbody>\n",
       "    <tr>\n",
       "      <th>Age</th>\n",
       "      <td>1.000000</td>\n",
       "      <td>0.416045</td>\n",
       "      <td>0.398026</td>\n",
       "      <td>0.473284</td>\n",
       "      <td>-0.255323</td>\n",
       "      <td>0.079798</td>\n",
       "      <td>-0.211851</td>\n",
       "    </tr>\n",
       "    <tr>\n",
       "      <th>SystolicBP</th>\n",
       "      <td>0.416045</td>\n",
       "      <td>1.000000</td>\n",
       "      <td>0.787006</td>\n",
       "      <td>0.425172</td>\n",
       "      <td>-0.286616</td>\n",
       "      <td>-0.023108</td>\n",
       "      <td>-0.208797</td>\n",
       "    </tr>\n",
       "    <tr>\n",
       "      <th>DiastolicBP</th>\n",
       "      <td>0.398026</td>\n",
       "      <td>0.787006</td>\n",
       "      <td>1.000000</td>\n",
       "      <td>0.423824</td>\n",
       "      <td>-0.257538</td>\n",
       "      <td>-0.046151</td>\n",
       "      <td>-0.284633</td>\n",
       "    </tr>\n",
       "    <tr>\n",
       "      <th>BS</th>\n",
       "      <td>0.473284</td>\n",
       "      <td>0.425172</td>\n",
       "      <td>0.423824</td>\n",
       "      <td>1.000000</td>\n",
       "      <td>-0.103493</td>\n",
       "      <td>0.142867</td>\n",
       "      <td>-0.479958</td>\n",
       "    </tr>\n",
       "    <tr>\n",
       "      <th>BodyTemp</th>\n",
       "      <td>-0.255323</td>\n",
       "      <td>-0.286616</td>\n",
       "      <td>-0.257538</td>\n",
       "      <td>-0.103493</td>\n",
       "      <td>1.000000</td>\n",
       "      <td>0.098771</td>\n",
       "      <td>-0.006680</td>\n",
       "    </tr>\n",
       "    <tr>\n",
       "      <th>HeartRate</th>\n",
       "      <td>0.079798</td>\n",
       "      <td>-0.023108</td>\n",
       "      <td>-0.046151</td>\n",
       "      <td>0.142867</td>\n",
       "      <td>0.098771</td>\n",
       "      <td>1.000000</td>\n",
       "      <td>-0.111637</td>\n",
       "    </tr>\n",
       "    <tr>\n",
       "      <th>RiskLevel</th>\n",
       "      <td>-0.211851</td>\n",
       "      <td>-0.208797</td>\n",
       "      <td>-0.284633</td>\n",
       "      <td>-0.479958</td>\n",
       "      <td>-0.006680</td>\n",
       "      <td>-0.111637</td>\n",
       "      <td>1.000000</td>\n",
       "    </tr>\n",
       "  </tbody>\n",
       "</table>\n",
       "</div>"
      ],
      "text/plain": [
       "                  Age  SystolicBP  DiastolicBP        BS  BodyTemp  HeartRate  \\\n",
       "Age          1.000000    0.416045     0.398026  0.473284 -0.255323   0.079798   \n",
       "SystolicBP   0.416045    1.000000     0.787006  0.425172 -0.286616  -0.023108   \n",
       "DiastolicBP  0.398026    0.787006     1.000000  0.423824 -0.257538  -0.046151   \n",
       "BS           0.473284    0.425172     0.423824  1.000000 -0.103493   0.142867   \n",
       "BodyTemp    -0.255323   -0.286616    -0.257538 -0.103493  1.000000   0.098771   \n",
       "HeartRate    0.079798   -0.023108    -0.046151  0.142867  0.098771   1.000000   \n",
       "RiskLevel   -0.211851   -0.208797    -0.284633 -0.479958 -0.006680  -0.111637   \n",
       "\n",
       "             RiskLevel  \n",
       "Age          -0.211851  \n",
       "SystolicBP   -0.208797  \n",
       "DiastolicBP  -0.284633  \n",
       "BS           -0.479958  \n",
       "BodyTemp     -0.006680  \n",
       "HeartRate    -0.111637  \n",
       "RiskLevel     1.000000  "
      ]
     },
     "execution_count": 82,
     "metadata": {},
     "output_type": "execute_result"
    }
   ],
   "source": [
    "df.corr()"
   ]
  },
  {
   "cell_type": "code",
   "execution_count": 83,
   "id": "47b1df04",
   "metadata": {},
   "outputs": [
    {
     "data": {
      "image/png": "[encoded data removed]",
      "text/plain": [
       "<Figure size 700x700 with 2 Axes>"
      ]
     },
     "metadata": {},
     "output_type": "display_data"
    }
   ],
   "source": [
    "plt.figure(figsize=(7,7))\n",
    "sns.heatmap(df.corr(),annot=True,cmap=\"plasma\")\n",
    "plt.show()"
   ]
  },
  {
   "cell_type": "code",
   "execution_count": 84,
   "id": "6919a78f",
   "metadata": {},
   "outputs": [
    {
     "data": {
      "text/html": [
       "<div>\n",
       "<style scoped>\n",
       "    .dataframe tbody tr th:only-of-type {\n",
       "        vertical-align: middle;\n",
       "    }\n",
       "\n",
       "    .dataframe tbody tr th {\n",
       "        vertical-align: top;\n",
       "    }\n",
       "\n",
       "    .dataframe thead th {\n",
       "        text-align: right;\n",
       "    }\n",
       "</style>\n",
       "<table border=\"1\" class=\"dataframe\">\n",
       "  <thead>\n",
       "    <tr style=\"text-align: right;\">\n",
       "      <th></th>\n",
       "      <th>Age</th>\n",
       "      <th>SystolicBP</th>\n",
       "      <th>DiastolicBP</th>\n",
       "      <th>BS</th>\n",
       "      <th>BodyTemp</th>\n",
       "      <th>HeartRate</th>\n",
       "      <th>RiskLevel</th>\n",
       "    </tr>\n",
       "  </thead>\n",
       "  <tbody>\n",
       "    <tr>\n",
       "      <th>0</th>\n",
       "      <td>25</td>\n",
       "      <td>130</td>\n",
       "      <td>80</td>\n",
       "      <td>15.0</td>\n",
       "      <td>98.0</td>\n",
       "      <td>86</td>\n",
       "      <td>0</td>\n",
       "    </tr>\n",
       "    <tr>\n",
       "      <th>1</th>\n",
       "      <td>35</td>\n",
       "      <td>140</td>\n",
       "      <td>90</td>\n",
       "      <td>13.0</td>\n",
       "      <td>98.0</td>\n",
       "      <td>70</td>\n",
       "      <td>0</td>\n",
       "    </tr>\n",
       "    <tr>\n",
       "      <th>2</th>\n",
       "      <td>29</td>\n",
       "      <td>90</td>\n",
       "      <td>70</td>\n",
       "      <td>8.0</td>\n",
       "      <td>100.0</td>\n",
       "      <td>80</td>\n",
       "      <td>0</td>\n",
       "    </tr>\n",
       "    <tr>\n",
       "      <th>3</th>\n",
       "      <td>30</td>\n",
       "      <td>140</td>\n",
       "      <td>85</td>\n",
       "      <td>7.0</td>\n",
       "      <td>98.0</td>\n",
       "      <td>70</td>\n",
       "      <td>0</td>\n",
       "    </tr>\n",
       "    <tr>\n",
       "      <th>4</th>\n",
       "      <td>35</td>\n",
       "      <td>120</td>\n",
       "      <td>60</td>\n",
       "      <td>6.1</td>\n",
       "      <td>98.0</td>\n",
       "      <td>76</td>\n",
       "      <td>1</td>\n",
       "    </tr>\n",
       "  </tbody>\n",
       "</table>\n",
       "</div>"
      ],
      "text/plain": [
       "   Age  SystolicBP  DiastolicBP    BS  BodyTemp  HeartRate  RiskLevel\n",
       "0   25         130           80  15.0      98.0         86          0\n",
       "1   35         140           90  13.0      98.0         70          0\n",
       "2   29          90           70   8.0     100.0         80          0\n",
       "3   30         140           85   7.0      98.0         70          0\n",
       "4   35         120           60   6.1      98.0         76          1"
      ]
     },
     "execution_count": 84,
     "metadata": {},
     "output_type": "execute_result"
    }
   ],
   "source": [
    "df.head()"
   ]
  }
 ],
 "metadata": {
  "kernelspec": {
   "display_name": "Python 3 (ipykernel)",
   "language": "python",
   "name": "python3"
  },
  "language_info": {
   "codemirror_mode": {
    "name": "ipython",
    "version": 3
   },
   "file_extension": ".py",
   "mimetype": "text/x-python",
   "name": "python",
   "nbconvert_exporter": "python",
   "pygments_lexer": "ipython3",
   "version": "3.9.12"
  }
 },
 "nbformat": 4,
 "nbformat_minor": 5
}
