{
 "cells": [
  {
   "cell_type": "code",
   "execution_count": 1,
   "id": "f6e7b71c",
   "metadata": {},
   "outputs": [
    {
     "name": "stdout",
     "output_type": "stream",
     "text": [
      "Requirement already satisfied: xlrd==1.2.0 in c:\\users\\ka patel\\anaconda3\\lib\\site-packages (1.2.0)\n",
      "Note: you may need to restart the kernel to use updated packages.\n"
     ]
    }
   ],
   "source": [
    "pip install xlrd==1.2.0"
   ]
  },
  {
   "cell_type": "code",
   "execution_count": 2,
   "id": "cb8920f8",
   "metadata": {},
   "outputs": [],
   "source": [
    "import xlrd"
   ]
  },
  {
   "cell_type": "code",
   "execution_count": 3,
   "id": "5164c651",
   "metadata": {},
   "outputs": [],
   "source": [
    "xlrd.xlsx.ensure_elementtree_imported(False,None)"
   ]
  },
  {
   "cell_type": "code",
   "execution_count": 4,
   "id": "dab01a42",
   "metadata": {},
   "outputs": [],
   "source": [
    "xlrd.xlsx.Element_has_iter = True"
   ]
  },
  {
   "cell_type": "code",
   "execution_count": 5,
   "id": "2faddda5",
   "metadata": {},
   "outputs": [],
   "source": [
    "data = (\"IPL.xlsx\")"
   ]
  },
  {
   "cell_type": "code",
   "execution_count": 6,
   "id": "8b1de379",
   "metadata": {},
   "outputs": [],
   "source": [
    "wb = xlrd.open_workbook(data)"
   ]
  },
  {
   "cell_type": "code",
   "execution_count": 7,
   "id": "8a11dbdd",
   "metadata": {},
   "outputs": [],
   "source": [
    "sheet = wb.sheet_by_index(0)"
   ]
  },
  {
   "cell_type": "code",
   "execution_count": 8,
   "id": "2eefdb97",
   "metadata": {},
   "outputs": [
    {
     "name": "stdout",
     "output_type": "stream",
     "text": [
      "CRICKET\n"
     ]
    }
   ],
   "source": [
    "print(sheet.cell_value(0,0))"
   ]
  },
  {
   "cell_type": "code",
   "execution_count": 9,
   "id": "3183b40c",
   "metadata": {},
   "outputs": [
    {
     "name": "stdout",
     "output_type": "stream",
     "text": [
      "RAHUL\n"
     ]
    }
   ],
   "source": [
    "print(sheet.cell_value(0,2))"
   ]
  },
  {
   "cell_type": "code",
   "execution_count": 10,
   "id": "ef0d5dcb",
   "metadata": {},
   "outputs": [
    {
     "name": "stdout",
     "output_type": "stream",
     "text": [
      "71.0\n"
     ]
    }
   ],
   "source": [
    "print(sheet.cell_value(3,1))"
   ]
  },
  {
   "cell_type": "code",
   "execution_count": 11,
   "id": "11225a0e",
   "metadata": {},
   "outputs": [
    {
     "name": "stdout",
     "output_type": "stream",
     "text": [
      "Total no of rows : 15\n"
     ]
    }
   ],
   "source": [
    "print(\"Total no of rows :\" ,sheet.nrows)"
   ]
  },
  {
   "cell_type": "code",
   "execution_count": 12,
   "id": "5c707f50",
   "metadata": {},
   "outputs": [
    {
     "name": "stdout",
     "output_type": "stream",
     "text": [
      "Total no of columns: 6\n",
      "Total no of matches : 14\n"
     ]
    }
   ],
   "source": [
    "print(\"Total no of columns:\",sheet.ncols)\n",
    "print(\"Total no of matches :\",sheet.nrows-1)"
   ]
  },
  {
   "cell_type": "code",
   "execution_count": 13,
   "id": "bfd2d324",
   "metadata": {},
   "outputs": [
    {
     "name": "stdout",
     "output_type": "stream",
     "text": [
      "BUTTLER\n",
      "RAHUL\n",
      "DEKOCK\n",
      "HARDIK\n",
      "MILLER\n"
     ]
    }
   ],
   "source": [
    "#print the all cricketer name\n",
    "for i in range(1,sheet.ncols):\n",
    "    print(sheet.cell_value(0,i))"
   ]
  },
  {
   "cell_type": "code",
   "execution_count": 14,
   "id": "37e2c72d",
   "metadata": {},
   "outputs": [
    {
     "name": "stdout",
     "output_type": "stream",
     "text": [
      "Enter the Player name : BUTTLER\n",
      "Player is found\n"
     ]
    }
   ],
   "source": [
    "user = input(\"Enter the Player name : \")\n",
    "for i in range(1,sheet.ncols):\n",
    "    if user == sheet.cell_value(0,i):\n",
    "        print(\"Player is found\")\n",
    "        break\n",
    "else :\n",
    "    print(\"Player is not found\")\n"
   ]
  },
  {
   "cell_type": "code",
   "execution_count": 15,
   "id": "0017e7ad",
   "metadata": {},
   "outputs": [
    {
     "name": "stdout",
     "output_type": "stream",
     "text": [
      "Enter the Player name : BUTTLER\n",
      "Player Name : BUTTLER\n",
      "629.0\n",
      "116.0\n",
      "44.92857142857143\n",
      "2.0\n"
     ]
    }
   ],
   "source": [
    "#Allow user to enter the player name print total,highscore,lowscore,average\n",
    "user = input(\"Enter the Player name : \")\n",
    "for i in range(1,sheet.ncols):\n",
    "    if user == sheet.cell_value(0,i):\n",
    "        print(\"Player Name :\",sheet.cell_value(0,i))\n",
    "        total=0\n",
    "        Highscore=0\n",
    "        Lowscore=999\n",
    "        for j in range(1,sheet.nrows):\n",
    "            total = total+sheet.cell_value(j,i)\n",
    "            average = total/(sheet.nrows-1)\n",
    "            if Highscore <= sheet.cell_value(j,i):\n",
    "                Highscore=sheet.cell_value(j,i)\n",
    "            if Lowscore >= sheet.cell_value(j,i):\n",
    "                    Lowscore=sheet.cell_value(j,i)\n",
    "                \n",
    "print(total)\n",
    "print(Highscore)\n",
    "print(average)\n",
    "print(Lowscore)\n",
    "\n",
    "            "
   ]
  },
  {
   "cell_type": "code",
   "execution_count": 16,
   "id": "366e733b",
   "metadata": {},
   "outputs": [
    {
     "name": "stdout",
     "output_type": "stream",
     "text": [
      "629.0\n"
     ]
    }
   ],
   "source": [
    "print(total)"
   ]
  },
  {
   "cell_type": "code",
   "execution_count": 17,
   "id": "5ea7d19a",
   "metadata": {},
   "outputs": [
    {
     "name": "stdout",
     "output_type": "stream",
     "text": [
      "Enter the Player name : RAHUL\n",
      "Player Name : RAHUL\n",
      "0.0\n"
     ]
    }
   ],
   "source": [
    "user = input(\"Enter the Player name : \")\n",
    "for i in range(1,sheet.ncols):\n",
    "    if user == sheet.cell_value(0,i):\n",
    "        print(\"Player Name :\",sheet.cell_value(0,i))\n",
    "        total=0\n",
    "        Highscore=0\n",
    "        Lowscore=999\n",
    "        for j in range(1,sheet.nrows):\n",
    "            total = total+sheet.cell_value(j,i)\n",
    "            if Lowscore >= sheet.cell_value(j,i):\n",
    "                    Lowscore=sheet.cell_value(j,i)\n",
    "print(Lowscore)\n",
    "            \n",
    "                "
   ]
  },
  {
   "cell_type": "code",
   "execution_count": 18,
   "id": "b7e373e7",
   "metadata": {},
   "outputs": [
    {
     "name": "stdout",
     "output_type": "stream",
     "text": [
      "MATCH : 1.0\n",
      "Score of  BUTTLER is  35.0\n",
      "Score of  RAHUL is  0.0\n",
      "Score of  DEKOCK is  7.0\n",
      "Score of  HARDIK is  33.0\n",
      "Score of  MILLER is  30.0\n",
      "MATCH : 2.0\n",
      "Score of  BUTTLER is  100.0\n",
      "Score of  RAHUL is  40.0\n",
      "Score of  DEKOCK is  61.0\n",
      "Score of  HARDIK is  31.0\n",
      "Score of  MILLER is  20.0\n",
      "MATCH : 3.0\n",
      "Score of  BUTTLER is  71.0\n",
      "Score of  RAHUL is  68.0\n",
      "Score of  DEKOCK is  1.0\n",
      "Score of  HARDIK is  27.0\n",
      "Score of  MILLER is  6.0\n",
      "MATCH : 4.0\n",
      "Score of  BUTTLER is  12.0\n",
      "Score of  RAHUL is  24.0\n",
      "Score of  DEKOCK is  80.0\n",
      "Score of  HARDIK is  50.0\n",
      "Score of  MILLER is  12.0\n",
      "MATCH : 5.0\n",
      "Score of  BUTTLER is  54.0\n",
      "Score of  RAHUL is  0.0\n",
      "Score of  DEKOCK is  39.0\n",
      "Score of  HARDIK is  87.0\n",
      "Score of  MILLER is  31.0\n",
      "MATCH : 6.0\n",
      "Score of  BUTTLER is  103.0\n",
      "Score of  RAHUL is  103.0\n",
      "Score of  DEKOCK is  24.0\n",
      "Score of  HARDIK is  67.0\n",
      "Score of  MILLER is  94.0\n",
      "MATCH : 7.0\n",
      "Score of  BUTTLER is  116.0\n",
      "Score of  RAHUL is  30.0\n",
      "Score of  DEKOCK is  3.0\n",
      "Score of  HARDIK is  10.0\n",
      "Score of  MILLER is  27.0\n",
      "MATCH : 8.0\n",
      "Score of  BUTTLER is  8.0\n",
      "Score of  RAHUL is  103.0\n",
      "Score of  DEKOCK is  10.0\n",
      "Score of  HARDIK is  3.0\n",
      "Score of  MILLER is  17.0\n",
      "MATCH : 9.0\n",
      "Score of  BUTTLER is  67.0\n",
      "Score of  RAHUL is  6.0\n",
      "Score of  DEKOCK is  46.0\n",
      "Score of  HARDIK is  1.0\n",
      "Score of  MILLER is  39.0\n",
      "MATCH : 10.0\n",
      "Score of  BUTTLER is  22.0\n",
      "Score of  RAHUL is  77.0\n",
      "Score of  DEKOCK is  23.0\n",
      "Score of  HARDIK is  24.0\n",
      "Score of  MILLER is  11.0\n",
      "MATCH : 11.0\n",
      "Score of  BUTTLER is  30.0\n",
      "Score of  RAHUL is  0.0\n",
      "Score of  DEKOCK is  50.0\n",
      "Score of  HARDIK is  11.0\n",
      "Score of  MILLER is  19.0\n",
      "MATCH : 12.0\n",
      "Score of  BUTTLER is  7.0\n",
      "Score of  RAHUL is  8.0\n",
      "Score of  DEKOCK is  11.0\n",
      "Score of  HARDIK is  7.0\n",
      "Score of  MILLER is  26.0\n",
      "MATCH : 13.0\n",
      "Score of  BUTTLER is  2.0\n",
      "Score of  RAHUL is  10.0\n",
      "Score of  DEKOCK is  7.0\n",
      "Score of  HARDIK is  62.0\n",
      "Score of  MILLER is  15.0\n",
      "MATCH : 14.0\n",
      "Score of  BUTTLER is  2.0\n",
      "Score of  RAHUL is  68.0\n",
      "Score of  DEKOCK is  140.0\n",
      "Score of  HARDIK is  40.0\n",
      "Score of  MILLER is  34.0\n"
     ]
    }
   ],
   "source": [
    "for i in range(1,sheet.nrows):\n",
    "    print(\"MATCH :\",sheet.cell_value(i,0))\n",
    "    for j in range(1,sheet.ncols):\n",
    "        print(\"Score of \",sheet.cell_value(0,j),\"is \",sheet.cell_value(i,j))"
   ]
  },
  {
   "cell_type": "code",
   "execution_count": 51,
   "id": "596d0b1c",
   "metadata": {},
   "outputs": [
    {
     "name": "stdout",
     "output_type": "stream",
     "text": [
      "Enter the match no :14\n",
      "140.0\n",
      "DEKOCK\n",
      "Highestscor of  DEKOCK is 140.0\n"
     ]
    }
   ],
   "source": [
    "#Enter the match number,print highscore along with player name\n",
    "matchno = int(input(\"Enter the match no :\"))\n",
    "for i in range(1,sheet.nrows):\n",
    "    if matchno == sheet.cell_value(i,0):\n",
    "        highscore=0\n",
    "        for j in range(1,sheet.ncols):\n",
    "            if highscore<=sheet.cell_value(i,j):\n",
    "                highscore=sheet.cell_value(i,j)\n",
    "                name=sheet.cell_value(0,j)\n",
    "                \n",
    "             \n",
    "                \n",
    "print(highscore)\n",
    "print(name)\n",
    "print(\"Highestscor of \",name , \"is\",highscore)\n",
    "            \n",
    "        \n"
   ]
  },
  {
   "cell_type": "code",
   "execution_count": 81,
   "id": "2f928656",
   "metadata": {},
   "outputs": [
    {
     "name": "stdout",
     "output_type": "stream",
     "text": [
      "Enter the Player Name :HARDIK\n",
      "HARDIK\n"
     ]
    },
    {
     "data": {
      "image/png": "[encoded data removed]",
      "text/plain": [
       "<Figure size 432x288 with 1 Axes>"
      ]
     },
     "metadata": {
      "needs_background": "light"
     },
     "output_type": "display_data"
    }
   ],
   "source": [
    "# ENTER THE PLAYER NAME AND PRINT THE BAR GRAPH OF MATCHES SCORE\n",
    "playername = input(\"Enter the Player Name :\")\n",
    "score=[]\n",
    "match=[]\n",
    "for i in range(0,sheet.ncols):\n",
    "    if playername==sheet.cell_value(0,i):\n",
    "        print(sheet.cell_value(0,i))\n",
    "        for j in range(1,sheet.nrows):\n",
    "            \n",
    "            score.append(sheet.cell_value(j,i))\n",
    "            match.append(sheet.cell_value(j,0))\n",
    "            #print(sheet.cell_value(j,i))\n",
    "            #print(sheet.cell_value(j,0))\n",
    "            \n",
    "%matplotlib inline\n",
    "from matplotlib import pyplot as plt\n",
    "plt.bar(match,score)\n",
    "plt.title(\"Players Score\")\n",
    "plt.xlabel(\"Match\")\n",
    "plt.ylabel(\"Score\")\n",
    "plt.show()\n",
    "\n",
    "\n",
    "            \n",
    "             \n",
    "              \n",
    "            \n",
    "            \n"
   ]
  },
  {
   "cell_type": "code",
   "execution_count": 84,
   "id": "75098f36",
   "metadata": {},
   "outputs": [
    {
     "name": "stdout",
     "output_type": "stream",
     "text": [
      "Enter the Player Name :HARDIK\n",
      "HARDIK\n",
      "7.0\n",
      "Hardik scored 10 in match : 7.0\n"
     ]
    }
   ],
   "source": [
    "#in which match Hardik score 10 ?\n",
    "playername = input(\"Enter the Player Name :\")\n",
    "score=10\n",
    "for i in range(0,sheet.ncols):\n",
    "    if playername==sheet.cell_value(0,i):\n",
    "        print(sheet.cell_value(0,i))\n",
    "        for j in range(1,sheet.nrows):\n",
    "            if score==sheet.cell_value(j,i):\n",
    "                a = sheet.cell_value(j,0)\n",
    "                print(sheet.cell_value(j,0))\n",
    "print(\"Hardik scored 10 in match :\",a)\n",
    "                    \n",
    "                    \n",
    "            \n",
    "            \n",
    "           "
   ]
  },
  {
   "cell_type": "code",
   "execution_count": null,
   "id": "45b2b514",
   "metadata": {},
   "outputs": [],
   "source": []
  },
  {
   "cell_type": "code",
   "execution_count": null,
   "id": "529c501f",
   "metadata": {},
   "outputs": [],
   "source": []
  },
  {
   "cell_type": "code",
   "execution_count": null,
   "id": "e34e3965",
   "metadata": {},
   "outputs": [],
   "source": []
  }
 ],
 "metadata": {
  "kernelspec": {
   "display_name": "Python 3 (ipykernel)",
   "language": "python",
   "name": "python3"
  },
  "language_info": {
   "codemirror_mode": {
    "name": "ipython",
    "version": 3
   },
   "file_extension": ".py",
   "mimetype": "text/x-python",
   "name": "python",
   "nbconvert_exporter": "python",
   "pygments_lexer": "ipython3",
   "version": "3.9.12"
  }
 },
 "nbformat": 4,
 "nbformat_minor": 5
}
