{
 "cells": [
  {
   "cell_type": "code",
   "execution_count": 1,
   "id": "50be91f7",
   "metadata": {},
   "outputs": [
    {
     "name": "stdout",
     "output_type": "stream",
     "text": [
      "Requirement already satisfied: requests in c:\\users\\ka patel\\anaconda3\\lib\\site-packages (2.27.1)\n",
      "Requirement already satisfied: urllib3<1.27,>=1.21.1 in c:\\users\\ka patel\\anaconda3\\lib\\site-packages (from requests) (1.26.9)\n",
      "Requirement already satisfied: charset-normalizer~=2.0.0 in c:\\users\\ka patel\\anaconda3\\lib\\site-packages (from requests) (2.0.4)\n",
      "Requirement already satisfied: idna<4,>=2.5 in c:\\users\\ka patel\\anaconda3\\lib\\site-packages (from requests) (3.3)\n",
      "Requirement already satisfied: certifi>=2017.4.17 in c:\\users\\ka patel\\anaconda3\\lib\\site-packages (from requests) (2021.10.8)\n",
      "Note: you may need to restart the kernel to use updated packages.\n"
     ]
    }
   ],
   "source": [
    "pip install requests"
   ]
  },
  {
   "cell_type": "code",
   "execution_count": 2,
   "id": "92f35258",
   "metadata": {},
   "outputs": [],
   "source": [
    "import requests"
   ]
  },
  {
   "cell_type": "code",
   "execution_count": 3,
   "id": "23a4554d",
   "metadata": {},
   "outputs": [],
   "source": [
    "url = requests.get(\"https://api.coindesk.com/v1/bpi/currentprice.json\")"
   ]
  },
  {
   "cell_type": "code",
   "execution_count": 4,
   "id": "21cf5889",
   "metadata": {},
   "outputs": [],
   "source": [
    "data = url.json()"
   ]
  },
  {
   "cell_type": "code",
   "execution_count": 5,
   "id": "dd0d2a6f",
   "metadata": {},
   "outputs": [
    {
     "name": "stdout",
     "output_type": "stream",
     "text": [
      "{'time': {'updated': 'Jul 27, 2023 12:15:00 UTC', 'updatedISO': '2023-07-27T12:15:00+00:00', 'updateduk': 'Jul 27, 2023 at 13:15 BST'}, 'disclaimer': 'This data was produced from the CoinDesk Bitcoin Price Index (USD). Non-USD currency data converted using hourly conversion rate from openexchangerates.org', 'chartName': 'Bitcoin', 'bpi': {'USD': {'code': 'USD', 'symbol': '&#36;', 'rate': '29,508.8097', 'description': 'United States Dollar', 'rate_float': 29508.8097}, 'GBP': {'code': 'GBP', 'symbol': '&pound;', 'rate': '24,657.3253', 'description': 'British Pound Sterling', 'rate_float': 24657.3253}, 'EUR': {'code': 'EUR', 'symbol': '&euro;', 'rate': '28,745.8890', 'description': 'Euro', 'rate_float': 28745.889}}}\n"
     ]
    }
   ],
   "source": [
    "print(data)"
   ]
  },
  {
   "cell_type": "code",
   "execution_count": 6,
   "id": "476bdd2f",
   "metadata": {},
   "outputs": [
    {
     "name": "stdout",
     "output_type": "stream",
     "text": [
      "<class 'dict'>\n"
     ]
    }
   ],
   "source": [
    "print(type(data))"
   ]
  },
  {
   "cell_type": "code",
   "execution_count": 7,
   "id": "b081498b",
   "metadata": {},
   "outputs": [
    {
     "name": "stdout",
     "output_type": "stream",
     "text": [
      "time\n",
      "disclaimer\n",
      "chartName\n",
      "bpi\n"
     ]
    }
   ],
   "source": [
    "for i in data:\n",
    "    print(i)"
   ]
  },
  {
   "cell_type": "code",
   "execution_count": 9,
   "id": "8bac220d",
   "metadata": {},
   "outputs": [
    {
     "name": "stdout",
     "output_type": "stream",
     "text": [
      "29,508.8097\n"
     ]
    }
   ],
   "source": [
    "print(data[\"bpi\"][\"USD\"][\"rate\"])"
   ]
  },
  {
   "cell_type": "code",
   "execution_count": 12,
   "id": "a10139a1",
   "metadata": {},
   "outputs": [],
   "source": [
    "url1 = requests.get(\"https://isro.vercel.app/api/spacecrafts\")"
   ]
  },
  {
   "cell_type": "code",
   "execution_count": 13,
   "id": "270d3817",
   "metadata": {},
   "outputs": [],
   "source": [
    "data1 = url1.json()"
   ]
  },
  {
   "cell_type": "code",
   "execution_count": 14,
   "id": "d7f7438e",
   "metadata": {},
   "outputs": [
    {
     "name": "stdout",
     "output_type": "stream",
     "text": [
      "{'spacecrafts': [{'id': 1, 'name': 'Aryabhata'}, {'id': 2, 'name': 'Bhaskara-I'}, {'id': 3, 'name': 'Rohini Technology Payload (RTP)'}, {'id': 4, 'name': 'Rohini Satellite RS-1'}, {'id': 5, 'name': 'Rohini Satellite RS-D1'}, {'id': 6, 'name': 'APPLE'}, {'id': 7, 'name': 'Bhaskara-II'}, {'id': 8, 'name': 'INSAT-1A'}, {'id': 9, 'name': 'Rohini Satellite RS-D2'}, {'id': 10, 'name': 'INSAT-1B'}, {'id': 11, 'name': 'SROSS-1'}, {'id': 12, 'name': 'IRS-1A'}, {'id': 13, 'name': 'SROSS-2'}, {'id': 14, 'name': 'INSAT-1C'}, {'id': 15, 'name': 'INSAT-1D'}, {'id': 16, 'name': 'IRS-1B'}, {'id': 17, 'name': 'SROSS-C'}, {'id': 18, 'name': 'INSAT-2A'}, {'id': 19, 'name': 'INSAT-2B'}, {'id': 20, 'name': 'IRS-1E'}, {'id': 21, 'name': 'SROSS-C2'}, {'id': 22, 'name': 'IRS-P2'}, {'id': 23, 'name': 'INSAT-2C'}, {'id': 24, 'name': 'IRS-1C'}, {'id': 25, 'name': 'IRS-P3'}, {'id': 26, 'name': 'INSAT-2D'}, {'id': 27, 'name': 'IRS-1D'}, {'id': 28, 'name': 'INSAT-2E'}, {'id': 29, 'name': 'Oceansat(IRS-P4)'}, {'id': 30, 'name': 'INSAT-3B'}, {'id': 31, 'name': 'GSAT-1'}, {'id': 32, 'name': 'The Technology Experiment Satellite (TES)'}, {'id': 33, 'name': 'INSAT-3C'}, {'id': 34, 'name': 'KALPANA-1'}, {'id': 35, 'name': 'INSAT-3A'}, {'id': 36, 'name': 'GSAT-2'}, {'id': 37, 'name': 'INSAT-3E'}, {'id': 38, 'name': 'IRS-P6 / RESOURCESAT-1'}, {'id': 39, 'name': 'EDUSAT'}, {'id': 40, 'name': 'HAMSAT'}, {'id': 41, 'name': 'CARTOSAT-1'}, {'id': 42, 'name': 'INSAT-4A'}, {'id': 43, 'name': 'INSAT-4C'}, {'id': 44, 'name': 'SRE-1'}, {'id': 45, 'name': 'CARTOSAT-2'}, {'id': 46, 'name': 'INSAT-4B'}, {'id': 47, 'name': 'INSAT-4CR'}, {'id': 48, 'name': 'CARTOSAT – 2A'}, {'id': 49, 'name': 'IMS-1'}, {'id': 50, 'name': 'Chandrayaan-1'}, {'id': 51, 'name': 'RISAT-2'}, {'id': 52, 'name': 'Oceansat-2'}, {'id': 53, 'name': 'GSAT-4'}, {'id': 54, 'name': 'CARTOSAT-2B'}, {'id': 55, 'name': 'GSAT-5P'}, {'id': 56, 'name': 'YOUTHSAT'}, {'id': 57, 'name': 'RESOURCESAT-2'}, {'id': 58, 'name': 'GSAT-8'}, {'id': 59, 'name': 'GSAT-12'}, {'id': 60, 'name': 'Megha-Tropiques'}, {'id': 61, 'name': 'RISAT-1'}, {'id': 62, 'name': 'GSAT-10'}, {'id': 63, 'name': 'SARAL'}, {'id': 64, 'name': 'IRNSS-1A'}, {'id': 65, 'name': 'INSAT-3D'}, {'id': 66, 'name': 'GSAT-7'}, {'id': 67, 'name': 'Mars Orbiter Mission Spacecraft'}, {'id': 68, 'name': 'GSAT-14'}, {'id': 69, 'name': 'IRNSS-1B'}, {'id': 70, 'name': 'IRNSS-1C'}, {'id': 71, 'name': 'GSAT-16'}, {'id': 72, 'name': 'Crew module Atmospheric Re-entry Experiment (CARE)'}, {'id': 73, 'name': 'IRNSS-1D'}, {'id': 74, 'name': 'GSAT-6'}, {'id': 75, 'name': 'Astrosat'}, {'id': 76, 'name': 'GSAT-15'}, {'id': 77, 'name': 'IRNSS-1E'}, {'id': 78, 'name': 'IRNSS-1F'}, {'id': 79, 'name': 'IRNSS-1G'}, {'id': 80, 'name': 'CARTOSAT-2 Series Satellite'}, {'id': 81, 'name': 'INSAT-3DR'}, {'id': 82, 'name': 'SCATSAT-1'}, {'id': 83, 'name': 'GSAT-18'}, {'id': 84, 'name': 'RESOURCESAT-2A'}, {'id': 85, 'name': 'INS-1B'}, {'id': 86, 'name': 'INS-1A'}, {'id': 87, 'name': 'Cartosat -2 Series Satellite'}, {'id': 88, 'name': 'GSAT-9'}, {'id': 89, 'name': 'GSAT-19'}, {'id': 90, 'name': 'Cartosat-2 Series Satellite'}, {'id': 91, 'name': 'GSAT-17'}, {'id': 92, 'name': 'IRNSS-1H'}, {'id': 93, 'name': 'INS-1C'}, {'id': 94, 'name': 'Cartosat-2 Series Satellite'}, {'id': 95, 'name': 'Microsat'}, {'id': 96, 'name': 'GSAT-6A'}, {'id': 97, 'name': 'IRNSS-1I'}, {'id': 98, 'name': 'GSAT-29'}, {'id': 99, 'name': 'HysIS'}, {'id': 100, 'name': 'GSAT-11 Mission'}, {'id': 101, 'name': 'GSAT-7A'}, {'id': 102, 'name': 'Microsat-R'}, {'id': 103, 'name': 'GSAT-31'}, {'id': 104, 'name': 'EMISAT'}, {'id': 105, 'name': 'RISAT-2B'}, {'id': 106, 'name': 'Chandrayaan2'}, {'id': 107, 'name': 'Cartosat-3'}, {'id': 108, 'name': 'RISAT-2BR1'}, {'id': 109, 'name': 'GSAT-30'}, {'id': 110, 'name': 'EOS-01'}, {'id': 111, 'name': 'CMS-01'}, {'id': 112, 'name': 'EOS-03'}]}\n"
     ]
    }
   ],
   "source": [
    "print(data1)"
   ]
  },
  {
   "cell_type": "code",
   "execution_count": 15,
   "id": "3cde3ca2",
   "metadata": {},
   "outputs": [
    {
     "name": "stdout",
     "output_type": "stream",
     "text": [
      "dict_keys(['spacecrafts'])\n"
     ]
    }
   ],
   "source": [
    "print(data1.keys())"
   ]
  },
  {
   "cell_type": "code",
   "execution_count": 16,
   "id": "964889b6",
   "metadata": {},
   "outputs": [
    {
     "name": "stdout",
     "output_type": "stream",
     "text": [
      "spacecrafts\n"
     ]
    }
   ],
   "source": [
    "for i in data1:\n",
    "    print(i)"
   ]
  },
  {
   "cell_type": "code",
   "execution_count": 17,
   "id": "e6c842be",
   "metadata": {},
   "outputs": [
    {
     "name": "stdout",
     "output_type": "stream",
     "text": [
      "Aryabhata\n"
     ]
    }
   ],
   "source": [
    "print(data1[\"spacecrafts\"][0][\"name\"])"
   ]
  },
  {
   "cell_type": "code",
   "execution_count": 18,
   "id": "4c2f2c70",
   "metadata": {},
   "outputs": [],
   "source": [
    "url2 = requests.get(\"https://api.mfapi.in/mf\")"
   ]
  },
  {
   "cell_type": "code",
   "execution_count": 20,
   "id": "ee1b9767",
   "metadata": {},
   "outputs": [],
   "source": [
    "data2 = url2.json()"
   ]
  },
  {
   "cell_type": "code",
   "execution_count": 31,
   "id": "be989ade",
   "metadata": {},
   "outputs": [
    {
     "name": "stdout",
     "output_type": "stream",
     "text": [
      "<class 'list'>\n"
     ]
    }
   ],
   "source": [
    "print(type(data2))"
   ]
  },
  {
   "cell_type": "code",
   "execution_count": 30,
   "id": "258dc154",
   "metadata": {},
   "outputs": [
    {
     "name": "stdout",
     "output_type": "stream",
     "text": [
      "100027\n"
     ]
    }
   ],
   "source": [
    "print(data2[0]['schemeCode'])"
   ]
  },
  {
   "cell_type": "code",
   "execution_count": null,
   "id": "e3fba872",
   "metadata": {},
   "outputs": [],
   "source": []
  }
 ],
 "metadata": {
  "kernelspec": {
   "display_name": "Python 3 (ipykernel)",
   "language": "python",
   "name": "python3"
  },
  "language_info": {
   "codemirror_mode": {
    "name": "ipython",
    "version": 3
   },
   "file_extension": ".py",
   "mimetype": "text/x-python",
   "name": "python",
   "nbconvert_exporter": "python",
   "pygments_lexer": "ipython3",
   "version": "3.9.12"
  }
 },
 "nbformat": 4,
 "nbformat_minor": 5
}
