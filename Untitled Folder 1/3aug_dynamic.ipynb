{
 "cells": [
  {
   "cell_type": "code",
   "execution_count": 1,
   "id": "fbab6ad3",
   "metadata": {},
   "outputs": [
    {
     "name": "stdout",
     "output_type": "stream",
     "text": [
      "Requirement already satisfied: requests in c:\\users\\ka patel\\anaconda3\\lib\\site-packages (2.27.1)\n",
      "Requirement already satisfied: urllib3<1.27,>=1.21.1 in c:\\users\\ka patel\\anaconda3\\lib\\site-packages (from requests) (1.26.9)\n",
      "Requirement already satisfied: charset-normalizer~=2.0.0 in c:\\users\\ka patel\\anaconda3\\lib\\site-packages (from requests) (2.0.4)\n",
      "Requirement already satisfied: certifi>=2017.4.17 in c:\\users\\ka patel\\anaconda3\\lib\\site-packages (from requests) (2021.10.8)\n",
      "Requirement already satisfied: idna<4,>=2.5 in c:\\users\\ka patel\\anaconda3\\lib\\site-packages (from requests) (3.3)\n",
      "Note: you may need to restart the kernel to use updated packages.\n"
     ]
    }
   ],
   "source": [
    "pip install requests"
   ]
  },
  {
   "cell_type": "code",
   "execution_count": 3,
   "id": "4525f760",
   "metadata": {},
   "outputs": [],
   "source": [
    "import pandas as pd\n",
    "import requests\n",
    "url = requests.get(\"https://data.covid19india.org/data.json\")\n",
    "data = url.json()"
   ]
  },
  {
   "cell_type": "code",
   "execution_count": 4,
   "id": "c3430f61",
   "metadata": {},
   "outputs": [
    {
     "name": "stdout",
     "output_type": "stream",
     "text": [
      "    dailyconfirmed dailydeceased dailyrecovered             date     dateymd  \\\n",
      "0                1             0              0  30 January 2020  2020-01-30   \n",
      "1                0             0              0  31 January 2020  2020-01-31   \n",
      "2                0             0              0  1 February 2020  2020-02-01   \n",
      "3                1             0              0  2 February 2020  2020-02-02   \n",
      "4                1             0              0  3 February 2020  2020-02-03   \n",
      "..             ...           ...            ...              ...         ...   \n",
      "560          40081           583          42156   12 August 2021  2021-08-12   \n",
      "561          38761           477          35759   13 August 2021  2021-08-13   \n",
      "562          36135           491          37936   14 August 2021  2021-08-14   \n",
      "563          33245           421          35936   15 August 2021  2021-08-15   \n",
      "564          24692           438          36862   16 August 2021  2021-08-16   \n",
      "\n",
      "    totalconfirmed totaldeceased totalrecovered  \n",
      "0                1             0              0  \n",
      "1                1             0              0  \n",
      "2                1             0              0  \n",
      "3                2             0              0  \n",
      "4                3             0              0  \n",
      "..             ...           ...            ...  \n",
      "560       32116848        429695       31294596  \n",
      "561       32155609        430172       31330355  \n",
      "562       32191744        430663       31368291  \n",
      "563       32224989        431084       31404227  \n",
      "564       32249681        431522       31441089  \n",
      "\n",
      "[565 rows x 8 columns]\n"
     ]
    }
   ],
   "source": [
    "df = pd.DataFrame(data[\"cases_time_series\"])\n",
    "print(df)"
   ]
  },
  {
   "cell_type": "code",
   "execution_count": 5,
   "id": "f911b2b9",
   "metadata": {},
   "outputs": [],
   "source": [
    "df.to_csv(\"coviddaily.csv\")"
   ]
  },
  {
   "cell_type": "code",
   "execution_count": null,
   "id": "265d2604",
   "metadata": {},
   "outputs": [],
   "source": []
  }
 ],
 "metadata": {
  "kernelspec": {
   "display_name": "Python 3 (ipykernel)",
   "language": "python",
   "name": "python3"
  },
  "language_info": {
   "codemirror_mode": {
    "name": "ipython",
    "version": 3
   },
   "file_extension": ".py",
   "mimetype": "text/x-python",
   "name": "python",
   "nbconvert_exporter": "python",
   "pygments_lexer": "ipython3",
   "version": "3.9.12"
  }
 },
 "nbformat": 4,
 "nbformat_minor": 5
}
