{
 "cells": [
  {
   "cell_type": "code",
   "execution_count": 1,
   "id": "59fc17cb",
   "metadata": {},
   "outputs": [],
   "source": [
    "import pandas as pd\n",
    "import numpy as np\n",
    "import matplotlib.pyplot as plt"
   ]
  },
  {
   "cell_type": "code",
   "execution_count": 2,
   "id": "155ac85d",
   "metadata": {},
   "outputs": [
    {
     "name": "stdout",
     "output_type": "stream",
     "text": [
      "   SRNO BRANCH    NAME  TOTAL  PERCENTAGE  PASSFAIL\n",
      "0     1     CE  RAMESH    210          70         1\n",
      "1     2     CE  SURESH    150          50         1\n",
      "2     3     IT  MAHESH    225          75         1\n",
      "3     4     IT  NARESH    180          60         1\n",
      "4     5     CE  JAYESH     90          30         0\n",
      "<class 'pandas.core.frame.DataFrame'>\n"
     ]
    }
   ],
   "source": [
    "file1data=pd.read_excel(\"RESULT1.xlsx\")\n",
    "print(file1data)\n",
    "print(type(file1data))"
   ]
  },
  {
   "cell_type": "code",
   "execution_count": 3,
   "id": "8605ce7e",
   "metadata": {},
   "outputs": [
    {
     "name": "stdout",
     "output_type": "stream",
     "text": [
      "   SRNO BRANCH    NAME  TOTAL  PERCENTAGE  PASSFAIL\n",
      "0     1     EC   RATAN    150          50         1\n",
      "1     2     CE   JATAN    270          90         1\n",
      "2     3     IT  KATHAN    285          95         1\n",
      "3     4     EC   NAYAN    195          65         1\n",
      "4     5     IT   RAMAN    165          55         1\n",
      "<class 'pandas.core.frame.DataFrame'>\n"
     ]
    }
   ],
   "source": [
    "file2data=pd.read_excel(\"RESULT2.xlsx\")\n",
    "print(file2data)\n",
    "print(type(file2data))"
   ]
  },
  {
   "cell_type": "code",
   "execution_count": 4,
   "id": "434bade0",
   "metadata": {},
   "outputs": [],
   "source": [
    "alldata = pd.concat([file1data,file2data])"
   ]
  },
  {
   "cell_type": "code",
   "execution_count": 5,
   "id": "70496dec",
   "metadata": {},
   "outputs": [
    {
     "data": {
      "text/html": [
       "<div>\n",
       "<style scoped>\n",
       "    .dataframe tbody tr th:only-of-type {\n",
       "        vertical-align: middle;\n",
       "    }\n",
       "\n",
       "    .dataframe tbody tr th {\n",
       "        vertical-align: top;\n",
       "    }\n",
       "\n",
       "    .dataframe thead th {\n",
       "        text-align: right;\n",
       "    }\n",
       "</style>\n",
       "<table border=\"1\" class=\"dataframe\">\n",
       "  <thead>\n",
       "    <tr style=\"text-align: right;\">\n",
       "      <th></th>\n",
       "      <th>SRNO</th>\n",
       "      <th>BRANCH</th>\n",
       "      <th>NAME</th>\n",
       "      <th>TOTAL</th>\n",
       "      <th>PERCENTAGE</th>\n",
       "      <th>PASSFAIL</th>\n",
       "    </tr>\n",
       "  </thead>\n",
       "  <tbody>\n",
       "    <tr>\n",
       "      <th>0</th>\n",
       "      <td>1</td>\n",
       "      <td>CE</td>\n",
       "      <td>RAMESH</td>\n",
       "      <td>210</td>\n",
       "      <td>70</td>\n",
       "      <td>1</td>\n",
       "    </tr>\n",
       "    <tr>\n",
       "      <th>1</th>\n",
       "      <td>2</td>\n",
       "      <td>CE</td>\n",
       "      <td>SURESH</td>\n",
       "      <td>150</td>\n",
       "      <td>50</td>\n",
       "      <td>1</td>\n",
       "    </tr>\n",
       "    <tr>\n",
       "      <th>2</th>\n",
       "      <td>3</td>\n",
       "      <td>IT</td>\n",
       "      <td>MAHESH</td>\n",
       "      <td>225</td>\n",
       "      <td>75</td>\n",
       "      <td>1</td>\n",
       "    </tr>\n",
       "    <tr>\n",
       "      <th>3</th>\n",
       "      <td>4</td>\n",
       "      <td>IT</td>\n",
       "      <td>NARESH</td>\n",
       "      <td>180</td>\n",
       "      <td>60</td>\n",
       "      <td>1</td>\n",
       "    </tr>\n",
       "    <tr>\n",
       "      <th>4</th>\n",
       "      <td>5</td>\n",
       "      <td>CE</td>\n",
       "      <td>JAYESH</td>\n",
       "      <td>90</td>\n",
       "      <td>30</td>\n",
       "      <td>0</td>\n",
       "    </tr>\n",
       "    <tr>\n",
       "      <th>0</th>\n",
       "      <td>1</td>\n",
       "      <td>EC</td>\n",
       "      <td>RATAN</td>\n",
       "      <td>150</td>\n",
       "      <td>50</td>\n",
       "      <td>1</td>\n",
       "    </tr>\n",
       "    <tr>\n",
       "      <th>1</th>\n",
       "      <td>2</td>\n",
       "      <td>CE</td>\n",
       "      <td>JATAN</td>\n",
       "      <td>270</td>\n",
       "      <td>90</td>\n",
       "      <td>1</td>\n",
       "    </tr>\n",
       "    <tr>\n",
       "      <th>2</th>\n",
       "      <td>3</td>\n",
       "      <td>IT</td>\n",
       "      <td>KATHAN</td>\n",
       "      <td>285</td>\n",
       "      <td>95</td>\n",
       "      <td>1</td>\n",
       "    </tr>\n",
       "    <tr>\n",
       "      <th>3</th>\n",
       "      <td>4</td>\n",
       "      <td>EC</td>\n",
       "      <td>NAYAN</td>\n",
       "      <td>195</td>\n",
       "      <td>65</td>\n",
       "      <td>1</td>\n",
       "    </tr>\n",
       "    <tr>\n",
       "      <th>4</th>\n",
       "      <td>5</td>\n",
       "      <td>IT</td>\n",
       "      <td>RAMAN</td>\n",
       "      <td>165</td>\n",
       "      <td>55</td>\n",
       "      <td>1</td>\n",
       "    </tr>\n",
       "  </tbody>\n",
       "</table>\n",
       "</div>"
      ],
      "text/plain": [
       "   SRNO BRANCH    NAME  TOTAL  PERCENTAGE  PASSFAIL\n",
       "0     1     CE  RAMESH    210          70         1\n",
       "1     2     CE  SURESH    150          50         1\n",
       "2     3     IT  MAHESH    225          75         1\n",
       "3     4     IT  NARESH    180          60         1\n",
       "4     5     CE  JAYESH     90          30         0\n",
       "0     1     EC   RATAN    150          50         1\n",
       "1     2     CE   JATAN    270          90         1\n",
       "2     3     IT  KATHAN    285          95         1\n",
       "3     4     EC   NAYAN    195          65         1\n",
       "4     5     IT   RAMAN    165          55         1"
      ]
     },
     "execution_count": 5,
     "metadata": {},
     "output_type": "execute_result"
    }
   ],
   "source": [
    "alldata"
   ]
  },
  {
   "cell_type": "code",
   "execution_count": 6,
   "id": "1a201a88",
   "metadata": {},
   "outputs": [
    {
     "data": {
      "image/png": "[encoded data removed]",
      "text/plain": [
       "<Figure size 432x288 with 1 Axes>"
      ]
     },
     "metadata": {
      "needs_background": "light"
     },
     "output_type": "display_data"
    }
   ],
   "source": [
    "#plotting bar graph\n",
    "name=list(alldata[\"NAME\"])\n",
    "total=list(alldata[\"TOTAL\"])\n",
    "plt.bar(name,total)\n",
    "plt.show()"
   ]
  },
  {
   "cell_type": "code",
   "execution_count": 11,
   "id": "95402034",
   "metadata": {},
   "outputs": [
    {
     "name": "stdout",
     "output_type": "stream",
     "text": [
      "   SRNO BRANCH    NAME  TOTAL  PERCENTAGE  PASSFAIL\n",
      "2     3     IT  KATHAN    285          95         1\n",
      "1     2     CE   JATAN    270          90         1\n",
      "2     3     IT  MAHESH    225          75         1\n",
      "0     1     CE  RAMESH    210          70         1\n",
      "3     4     EC   NAYAN    195          65         1\n",
      "3     4     IT  NARESH    180          60         1\n",
      "4     5     IT   RAMAN    165          55         1\n",
      "1     2     CE  SURESH    150          50         1\n",
      "0     1     EC   RATAN    150          50         1\n",
      "4     5     CE  JAYESH     90          30         0\n"
     ]
    }
   ],
   "source": [
    "#print all data in decreasing order-topper first\n",
    "print(alldata.sort_values([\"TOTAL\"],ascending=False))"
   ]
  },
  {
   "cell_type": "code",
   "execution_count": 13,
   "id": "866596f5",
   "metadata": {},
   "outputs": [
    {
     "name": "stdout",
     "output_type": "stream",
     "text": [
      "   SRNO BRANCH    NAME  TOTAL  PERCENTAGE  PASSFAIL\n",
      "2     3     IT  KATHAN    285          95         1\n",
      "1     2     CE   JATAN    270          90         1\n",
      "2     3     IT  MAHESH    225          75         1\n"
     ]
    }
   ],
   "source": [
    "print(alldata.sort_values([\"TOTAL\"],ascending=False).head(3))"
   ]
  },
  {
   "cell_type": "code",
   "execution_count": 14,
   "id": "7e498086",
   "metadata": {},
   "outputs": [
    {
     "name": "stdout",
     "output_type": "stream",
     "text": [
      "   SRNO BRANCH    NAME  TOTAL  PERCENTAGE  PASSFAIL\n",
      "1     2     CE  SURESH    150          50         1\n",
      "0     1     EC   RATAN    150          50         1\n",
      "4     5     CE  JAYESH     90          30         0\n"
     ]
    }
   ],
   "source": [
    "print(alldata.sort_values([\"TOTAL\"],ascending=False).tail(3))"
   ]
  },
  {
   "cell_type": "code",
   "execution_count": 18,
   "id": "b1551ef7",
   "metadata": {},
   "outputs": [
    {
     "data": {
      "text/html": [
       "<div>\n",
       "<style scoped>\n",
       "    .dataframe tbody tr th:only-of-type {\n",
       "        vertical-align: middle;\n",
       "    }\n",
       "\n",
       "    .dataframe tbody tr th {\n",
       "        vertical-align: top;\n",
       "    }\n",
       "\n",
       "    .dataframe thead th {\n",
       "        text-align: right;\n",
       "    }\n",
       "</style>\n",
       "<table border=\"1\" class=\"dataframe\">\n",
       "  <thead>\n",
       "    <tr style=\"text-align: right;\">\n",
       "      <th></th>\n",
       "      <th>SRNO</th>\n",
       "      <th>BRANCH</th>\n",
       "      <th>NAME</th>\n",
       "      <th>TOTAL</th>\n",
       "      <th>PERCENTAGE</th>\n",
       "      <th>PASSFAIL</th>\n",
       "    </tr>\n",
       "  </thead>\n",
       "  <tbody>\n",
       "    <tr>\n",
       "      <th>0</th>\n",
       "      <td>1</td>\n",
       "      <td>CE</td>\n",
       "      <td>RAMESH</td>\n",
       "      <td>210</td>\n",
       "      <td>70</td>\n",
       "      <td>1</td>\n",
       "    </tr>\n",
       "    <tr>\n",
       "      <th>2</th>\n",
       "      <td>3</td>\n",
       "      <td>IT</td>\n",
       "      <td>MAHESH</td>\n",
       "      <td>225</td>\n",
       "      <td>75</td>\n",
       "      <td>1</td>\n",
       "    </tr>\n",
       "    <tr>\n",
       "      <th>1</th>\n",
       "      <td>2</td>\n",
       "      <td>CE</td>\n",
       "      <td>JATAN</td>\n",
       "      <td>270</td>\n",
       "      <td>90</td>\n",
       "      <td>1</td>\n",
       "    </tr>\n",
       "    <tr>\n",
       "      <th>2</th>\n",
       "      <td>3</td>\n",
       "      <td>IT</td>\n",
       "      <td>KATHAN</td>\n",
       "      <td>285</td>\n",
       "      <td>95</td>\n",
       "      <td>1</td>\n",
       "    </tr>\n",
       "  </tbody>\n",
       "</table>\n",
       "</div>"
      ],
      "text/plain": [
       "   SRNO BRANCH    NAME  TOTAL  PERCENTAGE  PASSFAIL\n",
       "0     1     CE  RAMESH    210          70         1\n",
       "2     3     IT  MAHESH    225          75         1\n",
       "1     2     CE   JATAN    270          90         1\n",
       "2     3     IT  KATHAN    285          95         1"
      ]
     },
     "execution_count": 18,
     "metadata": {},
     "output_type": "execute_result"
    }
   ],
   "source": [
    "alldata.loc[(alldata)[\"TOTAL\"]>200]"
   ]
  },
  {
   "cell_type": "code",
   "execution_count": 26,
   "id": "6be953a7",
   "metadata": {},
   "outputs": [
    {
     "name": "stdout",
     "output_type": "stream",
     "text": [
      "   SRNO BRANCH    NAME  TOTAL  PERCENTAGE  PASSFAIL CATAGORY CATEGORY\n",
      "0     1     CE  RAMESH    210          70         1     None  Average\n",
      "1     2     CE  SURESH    150          50         1     None  Average\n",
      "2     3     IT  MAHESH    225          75         1     None  Average\n",
      "3     4     IT  NARESH    180          60         1     None  Average\n",
      "4     5     CE  JAYESH     90          30         0     None     Weak\n",
      "0     1     EC   RATAN    150          50         1     None  Average\n",
      "1     2     CE   JATAN    270          90         1     None  Scholar\n",
      "2     3     IT  KATHAN    285          95         1     None  Scholar\n",
      "3     4     EC   NAYAN    195          65         1     None  Average\n",
      "4     5     IT   RAMAN    165          55         1     None  Average\n"
     ]
    }
   ],
   "source": [
    "\n",
    "# Define a function to categorize the results\n",
    "def categorize_result(percentage):\n",
    "    if 80 <= percentage <= 100:\n",
    "        return 'Scholar'\n",
    "    elif 50 <= percentage < 80:\n",
    "        return 'Average'\n",
    "    else:\n",
    "        return 'Weak'\n",
    "\n",
    "# Apply the function to create the new column\n",
    "alldata['CATEGORY'] = alldata['PERCENTAGE'].apply(categorize_result)\n",
    "\n",
    "# Print the resulting DataFrame\n",
    "print(alldata)\n",
    "\n",
    "                          \n",
    "    \n",
    "    "
   ]
  },
  {
   "cell_type": "code",
   "execution_count": 28,
   "id": "610614fe",
   "metadata": {},
   "outputs": [],
   "source": [
    "alldata.to_csv(\"Result.csv\")"
   ]
  },
  {
   "cell_type": "code",
   "execution_count": null,
   "id": "82720fb4",
   "metadata": {},
   "outputs": [],
   "source": []
  }
 ],
 "metadata": {
  "kernelspec": {
   "display_name": "Python 3 (ipykernel)",
   "language": "python",
   "name": "python3"
  },
  "language_info": {
   "codemirror_mode": {
    "name": "ipython",
    "version": 3
   },
   "file_extension": ".py",
   "mimetype": "text/x-python",
   "name": "python",
   "nbconvert_exporter": "python",
   "pygments_lexer": "ipython3",
   "version": "3.9.12"
  }
 },
 "nbformat": 4,
 "nbformat_minor": 5
}
