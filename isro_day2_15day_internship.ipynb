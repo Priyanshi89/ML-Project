{
 "cells": [
  {
   "cell_type": "code",
   "execution_count": 1,
   "id": "28773ecf",
   "metadata": {},
   "outputs": [
    {
     "name": "stdout",
     "output_type": "stream",
     "text": [
      "Requirement already satisfied: requests in c:\\users\\ka patel\\anaconda3\\lib\\site-packages (2.27.1)\n",
      "Requirement already satisfied: urllib3<1.27,>=1.21.1 in c:\\users\\ka patel\\anaconda3\\lib\\site-packages (from requests) (1.26.9)\n",
      "Requirement already satisfied: charset-normalizer~=2.0.0 in c:\\users\\ka patel\\anaconda3\\lib\\site-packages (from requests) (2.0.4)\n",
      "Requirement already satisfied: certifi>=2017.4.17 in c:\\users\\ka patel\\anaconda3\\lib\\site-packages (from requests) (2021.10.8)\n",
      "Requirement already satisfied: idna<4,>=2.5 in c:\\users\\ka patel\\anaconda3\\lib\\site-packages (from requests) (3.3)\n",
      "Note: you may need to restart the kernel to use updated packages.\n"
     ]
    }
   ],
   "source": [
    "pip install requests"
   ]
  },
  {
   "cell_type": "code",
   "execution_count": 2,
   "id": "fd4a9793",
   "metadata": {},
   "outputs": [],
   "source": [
    "import requests"
   ]
  },
  {
   "cell_type": "code",
   "execution_count": 4,
   "id": "ec78bb21",
   "metadata": {},
   "outputs": [],
   "source": [
    "url1 = requests.get(\"https://isro.vercel.app/api/spacecrafts\")"
   ]
  },
  {
   "cell_type": "code",
   "execution_count": 6,
   "id": "4a93aa2f",
   "metadata": {},
   "outputs": [],
   "source": [
    "data1 = url1.json()"
   ]
  },
  {
   "cell_type": "code",
   "execution_count": 7,
   "id": "a98e5e73",
   "metadata": {},
   "outputs": [
    {
     "name": "stdout",
     "output_type": "stream",
     "text": [
      "{'spacecrafts': [{'id': 1, 'name': 'Aryabhata'}, {'id': 2, 'name': 'Bhaskara-I'}, {'id': 3, 'name': 'Rohini Technology Payload (RTP)'}, {'id': 4, 'name': 'Rohini Satellite RS-1'}, {'id': 5, 'name': 'Rohini Satellite RS-D1'}, {'id': 6, 'name': 'APPLE'}, {'id': 7, 'name': 'Bhaskara-II'}, {'id': 8, 'name': 'INSAT-1A'}, {'id': 9, 'name': 'Rohini Satellite RS-D2'}, {'id': 10, 'name': 'INSAT-1B'}, {'id': 11, 'name': 'SROSS-1'}, {'id': 12, 'name': 'IRS-1A'}, {'id': 13, 'name': 'SROSS-2'}, {'id': 14, 'name': 'INSAT-1C'}, {'id': 15, 'name': 'INSAT-1D'}, {'id': 16, 'name': 'IRS-1B'}, {'id': 17, 'name': 'SROSS-C'}, {'id': 18, 'name': 'INSAT-2A'}, {'id': 19, 'name': 'INSAT-2B'}, {'id': 20, 'name': 'IRS-1E'}, {'id': 21, 'name': 'SROSS-C2'}, {'id': 22, 'name': 'IRS-P2'}, {'id': 23, 'name': 'INSAT-2C'}, {'id': 24, 'name': 'IRS-1C'}, {'id': 25, 'name': 'IRS-P3'}, {'id': 26, 'name': 'INSAT-2D'}, {'id': 27, 'name': 'IRS-1D'}, {'id': 28, 'name': 'INSAT-2E'}, {'id': 29, 'name': 'Oceansat(IRS-P4)'}, {'id': 30, 'name': 'INSAT-3B'}, {'id': 31, 'name': 'GSAT-1'}, {'id': 32, 'name': 'The Technology Experiment Satellite (TES)'}, {'id': 33, 'name': 'INSAT-3C'}, {'id': 34, 'name': 'KALPANA-1'}, {'id': 35, 'name': 'INSAT-3A'}, {'id': 36, 'name': 'GSAT-2'}, {'id': 37, 'name': 'INSAT-3E'}, {'id': 38, 'name': 'IRS-P6 / RESOURCESAT-1'}, {'id': 39, 'name': 'EDUSAT'}, {'id': 40, 'name': 'HAMSAT'}, {'id': 41, 'name': 'CARTOSAT-1'}, {'id': 42, 'name': 'INSAT-4A'}, {'id': 43, 'name': 'INSAT-4C'}, {'id': 44, 'name': 'SRE-1'}, {'id': 45, 'name': 'CARTOSAT-2'}, {'id': 46, 'name': 'INSAT-4B'}, {'id': 47, 'name': 'INSAT-4CR'}, {'id': 48, 'name': 'CARTOSAT – 2A'}, {'id': 49, 'name': 'IMS-1'}, {'id': 50, 'name': 'Chandrayaan-1'}, {'id': 51, 'name': 'RISAT-2'}, {'id': 52, 'name': 'Oceansat-2'}, {'id': 53, 'name': 'GSAT-4'}, {'id': 54, 'name': 'CARTOSAT-2B'}, {'id': 55, 'name': 'GSAT-5P'}, {'id': 56, 'name': 'YOUTHSAT'}, {'id': 57, 'name': 'RESOURCESAT-2'}, {'id': 58, 'name': 'GSAT-8'}, {'id': 59, 'name': 'GSAT-12'}, {'id': 60, 'name': 'Megha-Tropiques'}, {'id': 61, 'name': 'RISAT-1'}, {'id': 62, 'name': 'GSAT-10'}, {'id': 63, 'name': 'SARAL'}, {'id': 64, 'name': 'IRNSS-1A'}, {'id': 65, 'name': 'INSAT-3D'}, {'id': 66, 'name': 'GSAT-7'}, {'id': 67, 'name': 'Mars Orbiter Mission Spacecraft'}, {'id': 68, 'name': 'GSAT-14'}, {'id': 69, 'name': 'IRNSS-1B'}, {'id': 70, 'name': 'IRNSS-1C'}, {'id': 71, 'name': 'GSAT-16'}, {'id': 72, 'name': 'Crew module Atmospheric Re-entry Experiment (CARE)'}, {'id': 73, 'name': 'IRNSS-1D'}, {'id': 74, 'name': 'GSAT-6'}, {'id': 75, 'name': 'Astrosat'}, {'id': 76, 'name': 'GSAT-15'}, {'id': 77, 'name': 'IRNSS-1E'}, {'id': 78, 'name': 'IRNSS-1F'}, {'id': 79, 'name': 'IRNSS-1G'}, {'id': 80, 'name': 'CARTOSAT-2 Series Satellite'}, {'id': 81, 'name': 'INSAT-3DR'}, {'id': 82, 'name': 'SCATSAT-1'}, {'id': 83, 'name': 'GSAT-18'}, {'id': 84, 'name': 'RESOURCESAT-2A'}, {'id': 85, 'name': 'INS-1B'}, {'id': 86, 'name': 'INS-1A'}, {'id': 87, 'name': 'Cartosat -2 Series Satellite'}, {'id': 88, 'name': 'GSAT-9'}, {'id': 89, 'name': 'GSAT-19'}, {'id': 90, 'name': 'Cartosat-2 Series Satellite'}, {'id': 91, 'name': 'GSAT-17'}, {'id': 92, 'name': 'IRNSS-1H'}, {'id': 93, 'name': 'INS-1C'}, {'id': 94, 'name': 'Cartosat-2 Series Satellite'}, {'id': 95, 'name': 'Microsat'}, {'id': 96, 'name': 'GSAT-6A'}, {'id': 97, 'name': 'IRNSS-1I'}, {'id': 98, 'name': 'GSAT-29'}, {'id': 99, 'name': 'HysIS'}, {'id': 100, 'name': 'GSAT-11 Mission'}, {'id': 101, 'name': 'GSAT-7A'}, {'id': 102, 'name': 'Microsat-R'}, {'id': 103, 'name': 'GSAT-31'}, {'id': 104, 'name': 'EMISAT'}, {'id': 105, 'name': 'RISAT-2B'}, {'id': 106, 'name': 'Chandrayaan2'}, {'id': 107, 'name': 'Cartosat-3'}, {'id': 108, 'name': 'RISAT-2BR1'}, {'id': 109, 'name': 'GSAT-30'}, {'id': 110, 'name': 'EOS-01'}, {'id': 111, 'name': 'CMS-01'}, {'id': 112, 'name': 'EOS-03'}]}\n"
     ]
    }
   ],
   "source": [
    "print(data1)\n"
   ]
  },
  {
   "cell_type": "code",
   "execution_count": 10,
   "id": "8adc8b84",
   "metadata": {},
   "outputs": [],
   "source": [
    "totalcount=0\n",
    "for i in range(0,len(data1[\"spacecrafts\"])):\n",
    "    totalcount=totalcount + 1"
   ]
  },
  {
   "cell_type": "code",
   "execution_count": 11,
   "id": "fd955139",
   "metadata": {},
   "outputs": [
    {
     "data": {
      "text/plain": [
       "112"
      ]
     },
     "execution_count": 11,
     "metadata": {},
     "output_type": "execute_result"
    }
   ],
   "source": [
    "totalcount"
   ]
  },
  {
   "cell_type": "code",
   "execution_count": 12,
   "id": "36d2437c",
   "metadata": {},
   "outputs": [
    {
     "name": "stdout",
     "output_type": "stream",
     "text": [
      "ID :  1 NAME : Aryabhata\n",
      "ID :  2 NAME : Bhaskara-I\n",
      "ID :  3 NAME : Rohini Technology Payload (RTP)\n",
      "ID :  4 NAME : Rohini Satellite RS-1\n",
      "ID :  5 NAME : Rohini Satellite RS-D1\n",
      "ID :  6 NAME : APPLE\n",
      "ID :  7 NAME : Bhaskara-II\n",
      "ID :  8 NAME : INSAT-1A\n",
      "ID :  9 NAME : Rohini Satellite RS-D2\n",
      "ID :  10 NAME : INSAT-1B\n",
      "ID :  11 NAME : SROSS-1\n",
      "ID :  12 NAME : IRS-1A\n",
      "ID :  13 NAME : SROSS-2\n",
      "ID :  14 NAME : INSAT-1C\n",
      "ID :  15 NAME : INSAT-1D\n",
      "ID :  16 NAME : IRS-1B\n",
      "ID :  17 NAME : SROSS-C\n",
      "ID :  18 NAME : INSAT-2A\n",
      "ID :  19 NAME : INSAT-2B\n",
      "ID :  20 NAME : IRS-1E\n",
      "ID :  21 NAME : SROSS-C2\n",
      "ID :  22 NAME : IRS-P2\n",
      "ID :  23 NAME : INSAT-2C\n",
      "ID :  24 NAME : IRS-1C\n",
      "ID :  25 NAME : IRS-P3\n",
      "ID :  26 NAME : INSAT-2D\n",
      "ID :  27 NAME : IRS-1D\n",
      "ID :  28 NAME : INSAT-2E\n",
      "ID :  29 NAME : Oceansat(IRS-P4)\n",
      "ID :  30 NAME : INSAT-3B\n",
      "ID :  31 NAME : GSAT-1\n",
      "ID :  32 NAME : The Technology Experiment Satellite (TES)\n",
      "ID :  33 NAME : INSAT-3C\n",
      "ID :  34 NAME : KALPANA-1\n",
      "ID :  35 NAME : INSAT-3A\n",
      "ID :  36 NAME : GSAT-2\n",
      "ID :  37 NAME : INSAT-3E\n",
      "ID :  38 NAME : IRS-P6 / RESOURCESAT-1\n",
      "ID :  39 NAME : EDUSAT\n",
      "ID :  40 NAME : HAMSAT\n",
      "ID :  41 NAME : CARTOSAT-1\n",
      "ID :  42 NAME : INSAT-4A\n",
      "ID :  43 NAME : INSAT-4C\n",
      "ID :  44 NAME : SRE-1\n",
      "ID :  45 NAME : CARTOSAT-2\n",
      "ID :  46 NAME : INSAT-4B\n",
      "ID :  47 NAME : INSAT-4CR\n",
      "ID :  48 NAME : CARTOSAT – 2A\n",
      "ID :  49 NAME : IMS-1\n",
      "ID :  50 NAME : Chandrayaan-1\n",
      "ID :  51 NAME : RISAT-2\n",
      "ID :  52 NAME : Oceansat-2\n",
      "ID :  53 NAME : GSAT-4\n",
      "ID :  54 NAME : CARTOSAT-2B\n",
      "ID :  55 NAME : GSAT-5P\n",
      "ID :  56 NAME : YOUTHSAT\n",
      "ID :  57 NAME : RESOURCESAT-2\n",
      "ID :  58 NAME : GSAT-8\n",
      "ID :  59 NAME : GSAT-12\n",
      "ID :  60 NAME : Megha-Tropiques\n",
      "ID :  61 NAME : RISAT-1\n",
      "ID :  62 NAME : GSAT-10\n",
      "ID :  63 NAME : SARAL\n",
      "ID :  64 NAME : IRNSS-1A\n",
      "ID :  65 NAME : INSAT-3D\n",
      "ID :  66 NAME : GSAT-7\n",
      "ID :  67 NAME : Mars Orbiter Mission Spacecraft\n",
      "ID :  68 NAME : GSAT-14\n",
      "ID :  69 NAME : IRNSS-1B\n",
      "ID :  70 NAME : IRNSS-1C\n",
      "ID :  71 NAME : GSAT-16\n",
      "ID :  72 NAME : Crew module Atmospheric Re-entry Experiment (CARE)\n",
      "ID :  73 NAME : IRNSS-1D\n",
      "ID :  74 NAME : GSAT-6\n",
      "ID :  75 NAME : Astrosat\n",
      "ID :  76 NAME : GSAT-15\n",
      "ID :  77 NAME : IRNSS-1E\n",
      "ID :  78 NAME : IRNSS-1F\n",
      "ID :  79 NAME : IRNSS-1G\n",
      "ID :  80 NAME : CARTOSAT-2 Series Satellite\n",
      "ID :  81 NAME : INSAT-3DR\n",
      "ID :  82 NAME : SCATSAT-1\n",
      "ID :  83 NAME : GSAT-18\n",
      "ID :  84 NAME : RESOURCESAT-2A\n",
      "ID :  85 NAME : INS-1B\n",
      "ID :  86 NAME : INS-1A\n",
      "ID :  87 NAME : Cartosat -2 Series Satellite\n",
      "ID :  88 NAME : GSAT-9\n",
      "ID :  89 NAME : GSAT-19\n",
      "ID :  90 NAME : Cartosat-2 Series Satellite\n",
      "ID :  91 NAME : GSAT-17\n",
      "ID :  92 NAME : IRNSS-1H\n",
      "ID :  93 NAME : INS-1C\n",
      "ID :  94 NAME : Cartosat-2 Series Satellite\n",
      "ID :  95 NAME : Microsat\n",
      "ID :  96 NAME : GSAT-6A\n",
      "ID :  97 NAME : IRNSS-1I\n",
      "ID :  98 NAME : GSAT-29\n",
      "ID :  99 NAME : HysIS\n",
      "ID :  100 NAME : GSAT-11 Mission\n",
      "ID :  101 NAME : GSAT-7A\n",
      "ID :  102 NAME : Microsat-R\n",
      "ID :  103 NAME : GSAT-31\n",
      "ID :  104 NAME : EMISAT\n",
      "ID :  105 NAME : RISAT-2B\n",
      "ID :  106 NAME : Chandrayaan2\n",
      "ID :  107 NAME : Cartosat-3\n",
      "ID :  108 NAME : RISAT-2BR1\n",
      "ID :  109 NAME : GSAT-30\n",
      "ID :  110 NAME : EOS-01\n",
      "ID :  111 NAME : CMS-01\n",
      "ID :  112 NAME : EOS-03\n"
     ]
    }
   ],
   "source": [
    "for i in range(0,len(data1[\"spacecrafts\"])):\n",
    "    print(\"ID : \",data1[\"spacecrafts\"][i][\"id\"] , \"NAME :\",data1[\"spacecrafts\"][i][\"name\"])"
   ]
  },
  {
   "cell_type": "code",
   "execution_count": 13,
   "id": "dfecce39",
   "metadata": {},
   "outputs": [
    {
     "name": "stdout",
     "output_type": "stream",
     "text": [
      "Enter the id :4\n"
     ]
    }
   ],
   "source": [
    "id = int(input(\"Enter the id :\"))"
   ]
  },
  {
   "cell_type": "code",
   "execution_count": 14,
   "id": "372501ef",
   "metadata": {},
   "outputs": [
    {
     "data": {
      "text/plain": [
       "4"
      ]
     },
     "execution_count": 14,
     "metadata": {},
     "output_type": "execute_result"
    }
   ],
   "source": [
    "id"
   ]
  },
  {
   "cell_type": "code",
   "execution_count": 15,
   "id": "2779b8ca",
   "metadata": {},
   "outputs": [
    {
     "name": "stdout",
     "output_type": "stream",
     "text": [
      "NAME :  Rohini Satellite RS-1\n"
     ]
    }
   ],
   "source": [
    "for i in range(0,len(data1[\"spacecrafts\"])):\n",
    "    if id == int(data1[\"spacecrafts\"][i][\"id\"]):\n",
    "        print(\"NAME : \" ,data1[\"spacecrafts\"][i][\"name\"])\n",
    "        break\n",
    "else:\n",
    "    print(\"ID is not found\")"
   ]
  },
  {
   "cell_type": "code",
   "execution_count": null,
   "id": "ebfc3f76",
   "metadata": {},
   "outputs": [],
   "source": []
  }
 ],
 "metadata": {
  "kernelspec": {
   "display_name": "Python 3 (ipykernel)",
   "language": "python",
   "name": "python3"
  },
  "language_info": {
   "codemirror_mode": {
    "name": "ipython",
    "version": 3
   },
   "file_extension": ".py",
   "mimetype": "text/x-python",
   "name": "python",
   "nbconvert_exporter": "python",
   "pygments_lexer": "ipython3",
   "version": "3.9.12"
  }
 },
 "nbformat": 4,
 "nbformat_minor": 5
}
